{
 "cells": [
  {
   "cell_type": "code",
   "execution_count": null,
   "id": "a6d171db-ae5e-4a80-8fff-e8795d9878c1",
   "metadata": {},
   "outputs": [],
   "source": [
    "#LevelOrder\n",
    "def levelorder(root):\n",
    "    Q=[root,None]\n",
    "    while Q:\n",
    "        curr = Q.pop(0)\n",
    "        if curr == None:\n",
    "            print()\n",
    "            if Q:\n",
    "                Q.append(curr)\n",
    "        else:\n",
    "            print(curr.data,end=\" \")\n",
    "            if curr.left != None:\n",
    "                Q.append(curr.left)\n",
    "            if curr.right != None:\n",
    "                Q.append(curr.right)\n",
    "\n",
    "\n",
    "print(\"Level Order Traversal\")\n",
    "levelorder(root)\n",
    " "
   ]
  },
  {
   "cell_type": "markdown",
   "id": "25fb8f24-5ea2-4761-9b2f-63286d2e8c43",
   "metadata": {},
   "source": [
    "\n",
    "\n"
   ]
  },
  {
   "cell_type": "code",
   "execution_count": null,
   "id": "feee1f4b-51ad-465b-addc-581b878a03e4",
   "metadata": {},
   "outputs": [],
   "source": []
  },
  {
   "cell_type": "code",
   "execution_count": null,
   "id": "36690a48-504e-4058-9155-8ae741dc0f1b",
   "metadata": {},
   "outputs": [],
   "source": []
  },
  {
   "cell_type": "code",
   "execution_count": null,
   "id": "c753d0c7-d480-4469-b309-e3142861a08b",
   "metadata": {},
   "outputs": [],
   "source": []
  },
  {
   "cell_type": "code",
   "execution_count": null,
   "id": "96f00657-6fb7-44d2-88c5-09f910d9c88f",
   "metadata": {},
   "outputs": [],
   "source": []
  },
  {
   "cell_type": "code",
   "execution_count": null,
   "id": "0c8f70e9-91df-48b8-928e-ad5b84971fd4",
   "metadata": {},
   "outputs": [],
   "source": []
  }
 ],
 "metadata": {
  "kernelspec": {
   "display_name": "Python 3 (ipykernel)",
   "language": "python",
   "name": "python3"
  },
  "language_info": {
   "codemirror_mode": {
    "name": "ipython",
    "version": 3
   },
   "file_extension": ".py",
   "mimetype": "text/x-python",
   "name": "python",
   "nbconvert_exporter": "python",
   "pygments_lexer": "ipython3",
   "version": "3.12.3"
  }
 },
 "nbformat": 4,
 "nbformat_minor": 5
}
