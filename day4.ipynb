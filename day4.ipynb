{
 "cells": [
  {
   "cell_type": "code",
   "execution_count": 3,
   "id": "c2f74281-3cc7-4f6d-af95-1bab682289dc",
   "metadata": {},
   "outputs": [
    {
     "name": "stdin",
     "output_type": "stream",
     "text": [
      " @\n"
     ]
    },
    {
     "name": "stdout",
     "output_type": "stream",
     "text": [
      "A is a special character\n"
     ]
    }
   ],
   "source": [
    "#Write a program to identify the input character by the user as lower case, uper case, numerics or special characters.\n",
    "\n",
    "a=input()\n",
    "\n",
    "if a.isupper():\n",
    "    print(\"A is upper case character\")\n",
    "elif a.islower():\n",
    "    print(\"A is a lower case character\")\n",
    "elif a.isnumeric():\n",
    "    print(\"A is a number\")\n",
    "else:\n",
    "    print(\"A is a special character\")\n",
    "    \n"
   ]
  },
  {
   "cell_type": "code",
   "execution_count": 7,
   "id": "5f5c0879-a080-408d-966a-00e248bb41c5",
   "metadata": {},
   "outputs": [
    {
     "name": "stdin",
     "output_type": "stream",
     "text": [
      " MOM\n"
     ]
    },
    {
     "name": "stdout",
     "output_type": "stream",
     "text": [
      "palindrome\n"
     ]
    }
   ],
   "source": [
    "#TO CHECK STRING IS PALINDROME OR NOT\n",
    "a=input()\n",
    "flag=0\n",
    "\n",
    "for i in range (0,int(len(a)/2)):\n",
    "    if a[i] != a[(i+1)*-1]:\n",
    "        flag = 1\n",
    "        break\n",
    "if flag:\n",
    "    print(\"not palindrome\")\n",
    "else:\n",
    "    print(\"palindrome\")\n",
    "          \n"
   ]
  },
  {
   "cell_type": "code",
   "execution_count": 30,
   "id": "1a76764e-3e1e-4df4-b7f5-b1bed90a4e8e",
   "metadata": {},
   "outputs": [
    {
     "name": "stdin",
     "output_type": "stream",
     "text": [
      " 9\n"
     ]
    },
    {
     "name": "stdout",
     "output_type": "stream",
     "text": [
      "A is not a prime:\n"
     ]
    }
   ],
   "source": [
    "#Write a program for prime numbers. \n",
    "\n",
    "n=int(input())\n",
    "\n",
    "for i in range (2,int(n/2)):\n",
    "    if n%i==0:\n",
    "        print(\"A is not a prime:\")\n",
    "        break\n",
    "else:\n",
    "        print(\"A is prime\")"
   ]
  },
  {
   "cell_type": "code",
   "execution_count": 31,
   "id": "b7928c45-322a-4474-89d1-a8c4159833e3",
   "metadata": {},
   "outputs": [
    {
     "name": "stdin",
     "output_type": "stream",
     "text": [
      " 9\n"
     ]
    },
    {
     "name": "stdout",
     "output_type": "stream",
     "text": [
      "is prime\n"
     ]
    }
   ],
   "source": [
    "a=input()\n",
    "flag=0\n",
    "\n",
    "for i in range (2,int(len(a)/2)):\n",
    "     if n%i==0:\n",
    "        flag = 1\n",
    "        break\n",
    "if flag:\n",
    "    print(\"is not prime\")\n",
    "else:\n",
    "    print(\"is prime\")\n",
    "          \n"
   ]
  },
  {
   "cell_type": "code",
   "execution_count": null,
   "id": "0aba6f31-4b1e-4e4a-b8d7-ee3855115230",
   "metadata": {},
   "outputs": [],
   "source": [
    "File Handling\n",
    "\n",
    "Create\n",
    "Read\n",
    "Update\n",
    "Delete\n",
    "\n",
    "CRUD Operations\n"
   ]
  },
  {
   "cell_type": "code",
   "execution_count": null,
   "id": "74e0f1e6-ae47-4a5c-bfcd-c828e2323996",
   "metadata": {},
   "outputs": [],
   "source": [
    "\n",
    "if__name__ == '__main__':\n",
    "   filename = \"example.txt\"\n",
    "   new_filename = \"new_example.txt\"\n",
    "   \n",
    "   create_file(filename)\n",
    "   read_file(filename)\n",
    "   append_file(filename,\"This is some additional text.\\n\")\n",
    "   read_file(filename)\n",
    "   rename_file(filename,new_filename)\n",
    "   raed_file(nw_filename)\n",
    "   #delete_file(new_filename)\n"
   ]
  },
  {
   "cell_type": "code",
   "execution_count": 40,
   "id": "08f6e483-dfb5-4ce7-a012-ba47612e7181",
   "metadata": {},
   "outputs": [],
   "source": [
    "import os\n",
    "\n",
    "with open(\"mussu.txt\",'w') as f:\n",
    "    f.write(\"This is first text in file\")\n",
    "    pass"
   ]
  },
  {
   "cell_type": "code",
   "execution_count": 43,
   "id": "53824929-5551-45d9-a61e-74908385a862",
   "metadata": {},
   "outputs": [],
   "source": [
    "import os\n",
    "\n",
    "with open(\"mussu.txt\",'w') as f:\n",
    "    f.write(\"This is first text in file\\n\")\n",
    "    f.close\n",
    "    "
   ]
  },
  {
   "cell_type": "code",
   "execution_count": 44,
   "id": "2ce02fe7-4691-488c-ac3e-77b94243ffe3",
   "metadata": {},
   "outputs": [],
   "source": [
    "import os\n",
    "\n",
    "with open(\"mussu.txt\",'a') as f:\n",
    "    f.write(\"This is second text in file\")\n",
    "    f.close\n",
    "    \n",
    "  "
   ]
  },
  {
   "cell_type": "code",
   "execution_count": 21,
   "id": "c369aa55-7ecd-4276-8cfb-29d86b8c3a47",
   "metadata": {},
   "outputs": [],
   "source": [
    "import os\n",
    "\n",
    "os.remove(\"file.txt\")\n"
   ]
  },
  {
   "cell_type": "code",
   "execution_count": 26,
   "id": "9d686c8e-f6f9-4357-b5a3-b3a92ed4f468",
   "metadata": {},
   "outputs": [
    {
     "name": "stdout",
     "output_type": "stream",
     "text": [
      "This is second text in file\n",
      "111\n"
     ]
    }
   ],
   "source": [
    "import os\n",
    "with open(\"mussu.txt\",'r') as f:\n",
    "    for a in f.read().split(\"\\n\"):\n",
    "        print(a)\n",
    "        print(\"111\")\n",
    "    f.close"
   ]
  },
  {
   "cell_type": "code",
   "execution_count": 27,
   "id": "26dd1f6c-bf94-40e2-819e-a58fb53c5089",
   "metadata": {},
   "outputs": [
    {
     "name": "stdout",
     "output_type": "stream",
     "text": [
      "T\n",
      "111\n",
      "h\n",
      "111\n",
      "i\n",
      "111\n",
      "s\n",
      "111\n",
      " \n",
      "111\n",
      "i\n",
      "111\n",
      "s\n",
      "111\n",
      " \n",
      "111\n",
      "s\n",
      "111\n",
      "e\n",
      "111\n",
      "c\n",
      "111\n",
      "o\n",
      "111\n",
      "n\n",
      "111\n",
      "d\n",
      "111\n",
      " \n",
      "111\n",
      "t\n",
      "111\n",
      "e\n",
      "111\n",
      "x\n",
      "111\n",
      "t\n",
      "111\n",
      " \n",
      "111\n",
      "i\n",
      "111\n",
      "n\n",
      "111\n",
      " \n",
      "111\n",
      "f\n",
      "111\n",
      "i\n",
      "111\n",
      "l\n",
      "111\n",
      "e\n",
      "111\n"
     ]
    }
   ],
   "source": [
    "import os\n",
    "with open(\"mussu.txt\",'r') as f:\n",
    "    for a in f.read():\n",
    "        print(a)\n",
    "        print(\"111\")\n",
    "    f.close"
   ]
  },
  {
   "cell_type": "markdown",
   "id": "e3a486c6-5a88-4b8a-8d11-17a7d6ae86bc",
   "metadata": {},
   "source": [
    "w->write\n",
    "r->read\n",
    "a->append\n",
    "w+->write & read\n",
    "r+->read & write\n",
    "a->append & read"
   ]
  },
  {
   "cell_type": "code",
   "execution_count": 55,
   "id": "3f4d2fae-276e-4aea-b5e8-14c4a04b6e18",
   "metadata": {},
   "outputs": [],
   "source": [
    "import os\n",
    "\n",
    "with open(\"fruitname.txt\",'w') as f:\n",
    "    f.write(\"Fruit list\\n\")\n",
    "    f.close "
   ]
  },
  {
   "cell_type": "code",
   "execution_count": 56,
   "id": "7b974f9b-6b82-4ebd-8641-baaa0d93506a",
   "metadata": {},
   "outputs": [],
   "source": [
    "import os\n",
    "with open(\"fruitname.txt\",'a') as f:\n",
    "    f.write(\"Apple,Banana,Mango,Grapes\\n\")\n",
    "    f.close \n",
    "    \n",
    "\n"
   ]
  },
  {
   "cell_type": "code",
   "execution_count": null,
   "id": "63d4b018-6ddd-4600-81db-249c01af2540",
   "metadata": {},
   "outputs": [],
   "source": [
    "import os\n",
    "\n",
    "with open(\"fruitname.txt\",'a') as f:\n",
    "    f.write(\"\")\n",
    "    f.clos"
   ]
  }
 ],
 "metadata": {
  "kernelspec": {
   "display_name": "Python 3 (ipykernel)",
   "language": "python",
   "name": "python3"
  },
  "language_info": {
   "codemirror_mode": {
    "name": "ipython",
    "version": 3
   },
   "file_extension": ".py",
   "mimetype": "text/x-python",
   "name": "python",
   "nbconvert_exporter": "python",
   "pygments_lexer": "ipython3",
   "version": "3.12.3"
  }
 },
 "nbformat": 4,
 "nbformat_minor": 5
}
