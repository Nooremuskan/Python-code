{
 "cells": [
  {
   "cell_type": "code",
   "execution_count": 8,
   "id": "e69d5ff2-3e50-4801-abce-545c850883eb",
   "metadata": {},
   "outputs": [
    {
     "name": "stdin",
     "output_type": "stream",
     "text": [
      " this is a car\n"
     ]
    },
    {
     "name": "stdout",
     "output_type": "stream",
     "text": [
      "rac a si siht"
     ]
    }
   ],
   "source": [
    "#REVERSE STRING USING STACK\n",
    "\n",
    "a=input()\n",
    "s=[]\n",
    "for e in a:\n",
    "    s.append(e)\n",
    "\n",
    "while len(s)>0:\n",
    "    print(s.pop(),end=\"\")        "
   ]
  },
  {
   "cell_type": "code",
   "execution_count": 16,
   "id": "2e9d13c9-4854-47bc-b5ba-904800d6d40e",
   "metadata": {},
   "outputs": [
    {
     "name": "stdin",
     "output_type": "stream",
     "text": [
      " this is a car\n"
     ]
    },
    {
     "name": "stdout",
     "output_type": "stream",
     "text": [
      "car a is this "
     ]
    }
   ],
   "source": [
    "a=input()\n",
    "s=[]\n",
    "for e in a.split():\n",
    "    s.append(e)\n",
    "\n",
    "while len(s)>0:\n",
    "    print(s.pop(),end=\" \")       "
   ]
  },
  {
   "cell_type": "markdown",
   "id": "ab0080e1-0ed2-436f-973c-52b07a54a91f",
   "metadata": {},
   "source": [
    "infix to postfix evaluation rules:\n",
    "->if operator push into the stack\n",
    "->if others then print or add to the list\n",
    "->if operand send it to the postfix list\n",
    "->if the operator having highest precedence then pop and push the operator\n",
    "->is.alnum() function is used"
   ]
  },
  {
   "cell_type": "code",
   "execution_count": 13,
   "id": "caf5f235-3ea4-4685-ac23-694844a42cf2",
   "metadata": {},
   "outputs": [
    {
     "name": "stdin",
     "output_type": "stream",
     "text": [
      " a+b\n"
     ]
    },
    {
     "name": "stdout",
     "output_type": "stream",
     "text": [
      " ab+\n"
     ]
    }
   ],
   "source": [
    "def prec(e):\n",
    "    if e ==\"^\":\n",
    "        return 3\n",
    "    elif e == \"*\" or e == \"/\":\n",
    "        return 2\n",
    "    elif e == \"+\" or e == \"-\":\n",
    "        return 1\n",
    "\n",
    "    \n",
    "exp = input()\n",
    "s=[]\n",
    "result =\" \"\n",
    "for e in exp:\n",
    "    \n",
    "    if e.isalnum():\n",
    "        result +=e\n",
    "    elif e == '(':\n",
    "        s.append(e)\n",
    "    elif e == ')':\n",
    "        while s or s[-1] != '(':\n",
    "            result += s.pop()\n",
    "            s.pop()\n",
    "    else:\n",
    "        while s and (prec(e)<prec(s[-1]) or \n",
    "                    (prec(e)==prec(s[-1]) and asoc(e)=='L')):\n",
    "            result +=s.pop()\n",
    "        s.append(e)\n",
    "\n",
    "while s:\n",
    "    result +=s.pop()\n",
    "print(result)\n",
    "\n",
    "\n",
    "        \n"
   ]
  },
  {
   "cell_type": "markdown",
   "id": "7d1ed6e4-e258-4c82-8c63-2a2820596e38",
   "metadata": {},
   "source": [
    "In a arcade game, there is a king who got spelled by a which that whenever he eat he have to take care of what is Sequence of his\n",
    "food intake.\n",
    "if he eats similar food one after other it will cancel out the its effect and total energy was decreased.\n",
    "your task is to determine the total energy of the king after his meal\n",
    "\n",
    "example:[\"apple\",\"dal\",\"chapati\",\"rice\",\"apple\",\"apple\",\"dal\",\"rice\",\"dal\",\"chapati\",\"chapati\"]\n",
    "\n",
    "consider that energy released by each item will be same which is 1 unit\n",
    "\n",
    "so the total energy intake is 6 unit as per above example.\n",
    "[\"apple\",\"dal\",\"chapati\",\"rice\",\"dal\",\"rice\",\"dal\"]\n",
    "\n",
    "write a code to find the enery stored by the king after all the food."
   ]
  },
  {
   "cell_type": "code",
   "execution_count": 22,
   "id": "49b8d0d4-760b-4802-94e8-72b86fb5de90",
   "metadata": {},
   "outputs": [
    {
     "name": "stdin",
     "output_type": "stream",
     "text": [
      "  A D C R R A A D R D C C\n"
     ]
    },
    {
     "name": "stdout",
     "output_type": "stream",
     "text": [
      "['A', 'D', 'C', 'R', 'R', 'A', 'A', 'D', 'R', 'D', 'C', 'C']\n",
      "6 ['A', 'D', 'C', 'D', 'R', 'D']\n"
     ]
    }
   ],
   "source": [
    "                                                                                                                         \n",
    "a=[item for item in input().split()]\n",
    "print(a)\n",
    "S=[]\n",
    "for item in a:\n",
    "    if not S:\n",
    "        S.append(item)\n",
    "    elif S[-1] == item:\n",
    "        S.pop()\n",
    "    else:\n",
    "         S.append(item)\n",
    "print(len(S),S)\n"
   ]
  },
  {
   "cell_type": "code",
   "execution_count": 3,
   "id": "a0cfc0cd-1837-4c3d-820f-a7ceb87a1b7a",
   "metadata": {},
   "outputs": [
    {
     "name": "stdout",
     "output_type": "stream",
     "text": [
      "[{'This is a string'}]\n",
      "String is valid\n"
     ]
    }
   ],
   "source": [
    "#To check the balanced braces is valid or invalid\n",
    "a=[{(\"This is a string\")}]\n",
    "print(a)\n",
    "if a==[{(\"This is a string\")}]:\n",
    "    print(\"String is valid\")\n",
    "else:\n",
    "    print(\"String is invalid\")\n",
    "    "
   ]
  },
  {
   "cell_type": "code",
   "execution_count": 30,
   "id": "158589b2-381a-48e7-8345-df8312bf445a",
   "metadata": {},
   "outputs": [
    {
     "name": "stdin",
     "output_type": "stream",
     "text": [
      " ({})]\n"
     ]
    },
    {
     "name": "stdout",
     "output_type": "stream",
     "text": [
      "valid\n",
      "Valid\n"
     ]
    }
   ],
   "source": [
    "#To check the balanced braces is valid or invalid\n",
    "s=input()\n",
    "s=[]\n",
    "for e in s:\n",
    "    print(s)\n",
    "    if e == '(' or e =='{' or e =='[':\n",
    "        s.append(e)\n",
    "    elif (e ==')' and s[-1]=='(') or (e =='}' and s[-1]=='{') or (e == ']' and s[-1]=='['):\n",
    "        s.pop(e)\n",
    "    else:\n",
    "        continue\n",
    "try:\n",
    "    print(\"valid\")\n",
    "except:\n",
    "    print(\"invalid\")\n",
    "if not s:\n",
    "    print(\"Valid\")\n",
    "else:\n",
    "    print(\"Invalid\")    "
   ]
  }
 ],
 "metadata": {
  "kernelspec": {
   "display_name": "Python 3 (ipykernel)",
   "language": "python",
   "name": "python3"
  },
  "language_info": {
   "codemirror_mode": {
    "name": "ipython",
    "version": 3
   },
   "file_extension": ".py",
   "mimetype": "text/x-python",
   "name": "python",
   "nbconvert_exporter": "python",
   "pygments_lexer": "ipython3",
   "version": "3.12.3"
  }
 },
 "nbformat": 4,
 "nbformat_minor": 5
}
