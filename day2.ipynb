{
 "cells": [
  {
   "cell_type": "code",
   "execution_count": 5,
   "id": "6a826f29-8b6d-4d1c-a9b8-1261d41e2f1a",
   "metadata": {},
   "outputs": [
    {
     "name": "stdin",
     "output_type": "stream",
     "text": [
      "Enter your name: muskan\n",
      "Enter your age: 18\n"
     ]
    },
    {
     "name": "stdout",
     "output_type": "stream",
     "text": [
      "muskan\n",
      "You are eligible\n"
     ]
    }
   ],
   "source": [
    "Name=input(\"Enter your name:\")\n",
    "age=int(input(\"Enter your age:\"))\n",
    "if age>=18:\n",
    "   print(Name)\n",
    "   print(\"You are eligible\")\n",
    "else:\n",
    "   print(Name)\n",
    "   print(\"You are not eligible\")\n",
    "    \n",
    "\n",
    "\n",
    "\n"
   ]
  },
  {
   "cell_type": "code",
   "execution_count": 1,
   "id": "3e877221-1923-487d-8865-563966ab6e1d",
   "metadata": {},
   "outputs": [
    {
     "name": "stdout",
     "output_type": "stream",
     "text": [
      "a is greater than b\n"
     ]
    }
   ],
   "source": [
    "a=20\n",
    "b=15\n",
    "if a>b:\n",
    "   print(\"a is greater than b\")\n",
    "else:\n",
    "   print(\"b is greater than a\")\n",
    "    \n",
    "    \n"
   ]
  },
  {
   "cell_type": "code",
   "execution_count": 2,
   "id": "79bc9819-e3ba-410e-986a-8c121068e2ef",
   "metadata": {},
   "outputs": [
    {
     "name": "stdin",
     "output_type": "stream",
     "text": [
      " 4\n",
      " 5\n",
      " 9\n"
     ]
    },
    {
     "name": "stdout",
     "output_type": "stream",
     "text": [
      "c is largest\n"
     ]
    }
   ],
   "source": [
    "a=int(input())\n",
    "b=int(input())\n",
    "c=int(input())\n",
    "\n",
    "if a>b:\n",
    "    if a>c:\n",
    "        print(\"a is largest\")\n",
    "    else:\n",
    "        print(\"c is largest\")\n",
    "else:\n",
    "    if b>c:\n",
    "        print(\"b is largest\")\n",
    "    else:\n",
    "        print(\"c is largest\")\n",
    "        "
   ]
  },
  {
   "cell_type": "code",
   "execution_count": 3,
   "id": "56de69e1-0c36-4a82-bef9-c0a065c68bc1",
   "metadata": {},
   "outputs": [
    {
     "name": "stdin",
     "output_type": "stream",
     "text": [
      " 9\n",
      " 5\n",
      " 4\n"
     ]
    },
    {
     "name": "stdout",
     "output_type": "stream",
     "text": [
      "a is largest\n"
     ]
    }
   ],
   "source": [
    "a=int(input())\n",
    "b=int(input())\n",
    "c=int(input())\n",
    "\n",
    "if a>b:\n",
    "    if a>c:\n",
    "        print(\"a is largest\")\n",
    "    else:\n",
    "        print(\"c is largest\")\n",
    "else:\n",
    "    if b>c:\n",
    "        print(\"b is largest\")\n",
    "    else:\n",
    "        print(\"c is largest\")\n",
    "        \n",
    "        "
   ]
  },
  {
   "cell_type": "code",
   "execution_count": 4,
   "id": "647029f9-a2b2-46ab-bba6-139e711760f0",
   "metadata": {},
   "outputs": [
    {
     "name": "stdin",
     "output_type": "stream",
     "text": [
      " 2\n",
      " 7\n",
      " 4\n"
     ]
    },
    {
     "name": "stdout",
     "output_type": "stream",
     "text": [
      "b is largest\n"
     ]
    }
   ],
   "source": [
    "a=int(input())\n",
    "b=int(input())\n",
    "c=int(input())\n",
    "\n",
    "if a>b:\n",
    "    if a>c:\n",
    "        print(\"a is largest\")\n",
    "    else:\n",
    "        print(\"c is largest\")\n",
    "else:\n",
    "    if b>c:\n",
    "        print(\"b is largest\")\n",
    "    else:\n",
    "        print(\"c is largest\")\n",
    "        \n",
    "        "
   ]
  },
  {
   "cell_type": "code",
   "execution_count": 1,
   "id": "2500a87d-76dd-4143-85dd-90541bbaf6a1",
   "metadata": {},
   "outputs": [
    {
     "name": "stdout",
     "output_type": "stream",
     "text": [
      "a is largest\n"
     ]
    }
   ],
   "source": [
    "a=20\n",
    "b=15\n",
    "c=10\n",
    "\n",
    "if a>b:\n",
    "    if a>c:\n",
    "        print(\"a is largest\")\n",
    "    else:\n",
    "        print(\"c is largest\")\n",
    "else:\n",
    "    if b>c:\n",
    "        print(\"b is largest\")\n",
    "    else:\n",
    "        print(\"c is largest\")\n",
    "    "
   ]
  },
  {
   "cell_type": "code",
   "execution_count": 3,
   "id": "daa0d77c-f8db-4737-88a7-9e45e8b051bd",
   "metadata": {},
   "outputs": [
    {
     "name": "stdin",
     "output_type": "stream",
     "text": [
      "Enter your marks 90\n"
     ]
    },
    {
     "name": "stdout",
     "output_type": "stream",
     "text": [
      "grade = A+\n"
     ]
    }
   ],
   "source": [
    "marks=int(input(\"Enter your marks\"))\n",
    "if marks>=90 and marks<=100:\n",
    "    print(\"grade = A+\")\n",
    "else:\n",
    "    if marks>=80 and marks<=90:\n",
    "        print(\"grade = A\")\n",
    "    else:\n",
    "        if marks>=70 and marks<=80:\n",
    "            print(\"grade = B+\")\n",
    "        else:\n",
    "            if marks>=60 and marks<=70:\n",
    "                print(\"grade = B\")\n",
    "            else:\n",
    "                if marks>=50 and marks<=60:\n",
    "                    print(\"grade = C\")\n",
    "                else:\n",
    "                    if marks>=40 and marks<=50:\n",
    "                        print(\"grade = D\")\n",
    "                    else:\n",
    "                        if marks>=30 and marks<=40:\n",
    "                            print(\"grade = E\")\n",
    "                        else:\n",
    "                            if marks>=0 and marks<=30:\n",
    "                                print(\"grade = F\")\n",
    "                            else:\n",
    "                                print(\"Invalid Marks\")\n",
    "                                \n",
    "            \n",
    "        \n",
    "        \n",
    "          \n"
   ]
  },
  {
   "cell_type": "code",
   "execution_count": 27,
   "id": "2e5c8482-4d04-4b32-ac18-086f6bc26c3c",
   "metadata": {},
   "outputs": [
    {
     "name": "stdout",
     "output_type": "stream",
     "text": [
      "0\n",
      "1\n",
      "2\n",
      "3\n",
      "4\n",
      "5\n",
      "6\n",
      "7\n",
      "8\n",
      "9\n",
      "0\n",
      "1\n",
      "2\n",
      "3\n",
      "4\n",
      "5\n",
      "6\n",
      "7\n",
      "8\n",
      "9\n"
     ]
    }
   ],
   "source": [
    "#range program\n",
    "x=0\n",
    "while x<10:\n",
    "    print(x)\n",
    "    x=x+1\n",
    "\n",
    "for y in range(0,10):\n",
    "    print(y)\n",
    "    \n",
    "\n"
   ]
  },
  {
   "cell_type": "code",
   "execution_count": 28,
   "id": "d2309053-8940-48e4-8575-ba0e354a80da",
   "metadata": {},
   "outputs": [
    {
     "name": "stdout",
     "output_type": "stream",
     "text": [
      "*\n",
      "**\n",
      "***\n",
      "****\n",
      "*****\n"
     ]
    }
   ],
   "source": [
    "def half_pyramid(n):\n",
    "    for i in range(1, n+1):\n",
    "        for j in range(1, i+1):\n",
    "            print(\"*\",end=\"\")\n",
    "        print(\"\\r\")\n",
    "n=5\n",
    "half_pyramid(n)\n",
    "            \n",
    "        \n",
    "\n",
    "    "
   ]
  },
  {
   "cell_type": "code",
   "execution_count": 31,
   "id": "1082704e-f1ed-4f01-aff1-2813e2933db2",
   "metadata": {},
   "outputs": [
    {
     "name": "stdout",
     "output_type": "stream",
     "text": [
      "0\n",
      "1\n",
      "2\n",
      "3\n",
      "4\n",
      "5\n",
      "6\n",
      "7\n",
      "8\n",
      "9\n"
     ]
    }
   ],
   "source": [
    "x=0\n",
    "while x<10:\n",
    "    print(x)\n",
    "    x=x+1\n",
    "\n",
    "for y in range(0,10):\n",
    "    for x in range(0,y+1):\n",
    "        print(\"\",end=\"\")\n",
    "        \n",
    "        \n",
    "    \n"
   ]
  },
  {
   "cell_type": "code",
   "execution_count": 36,
   "id": "b44f8c94-9eed-4e5e-a3ba-a3165f5bb189",
   "metadata": {},
   "outputs": [
    {
     "name": "stdout",
     "output_type": "stream",
     "text": [
      "0\n",
      "1\n",
      "2\n",
      "3\n",
      "4\n",
      "5\n",
      "6\n",
      "7\n",
      "8\n",
      "9\n",
      "*\n",
      "**\n",
      "***\n",
      "****\n",
      "*****\n",
      "******\n",
      "*******\n",
      "********\n",
      "*********\n",
      "**********\n"
     ]
    }
   ],
   "source": [
    "x=0\n",
    "while x<10:\n",
    "    print(x)\n",
    "    x=x+1\n",
    "\n",
    "for y in range(0,10):\n",
    "    for x in range(0,y+1):\n",
    "        print(\"*\",end=\"\")\n",
    "    print()\n",
    "    \n",
    "        \n",
    "        \n"
   ]
  },
  {
   "cell_type": "code",
   "execution_count": 39,
   "id": "be8be1e6-8afd-4bb4-9017-2a6e1d4e2ad6",
   "metadata": {},
   "outputs": [
    {
     "name": "stdout",
     "output_type": "stream",
     "text": [
      "*\n",
      "**\n",
      "***\n",
      "****\n",
      "*****\n"
     ]
    }
   ],
   "source": [
    "for y in range(5):\n",
    "    for x in range(0,y+1):\n",
    "        print(\"*\",end=\"\")\n",
    "    print()\n",
    "    "
   ]
  },
  {
   "cell_type": "code",
   "execution_count": 33,
   "id": "4c06ce15-5e7d-4a8f-afe3-d12bd245e61c",
   "metadata": {},
   "outputs": [
    {
     "name": "stdin",
     "output_type": "stream",
     "text": [
      "Enter the length of series: 10\n"
     ]
    },
    {
     "name": "stdout",
     "output_type": "stream",
     "text": [
      "8\n",
      "1 "
     ]
    }
   ],
   "source": [
    "#Fibonacci series\n",
    "a=0\n",
    "b=1\n",
    "n=int(input(\"Enter the length of series:\"))\n",
    "print(n-2)\n",
    "c=a+b\n",
    "print(c,end=\" \")\n",
    "a=b\n",
    "b=c\n",
    "\n"
   ]
  },
  {
   "cell_type": "code",
   "execution_count": 4,
   "id": "57953d71-f683-497b-95de-04746eb68772",
   "metadata": {},
   "outputs": [
    {
     "name": "stdout",
     "output_type": "stream",
     "text": [
      "13\n"
     ]
    }
   ],
   "source": [
    "#Arithemetic Operations\n",
    "\n",
    "#add\n",
    "x=5\n",
    "y=8\n",
    "print(x+y)\n",
    "\n"
   ]
  },
  {
   "cell_type": "code",
   "execution_count": 5,
   "id": "77e323b5-7059-4e7a-a687-1eddf6801c76",
   "metadata": {},
   "outputs": [
    {
     "name": "stdout",
     "output_type": "stream",
     "text": [
      "7\n"
     ]
    }
   ],
   "source": [
    "#sub\n",
    "x=10\n",
    "y=3\n",
    "print(x-y)\n"
   ]
  },
  {
   "cell_type": "code",
   "execution_count": 6,
   "id": "57a1247d-f2de-4923-ac0d-69745025db1f",
   "metadata": {},
   "outputs": [
    {
     "name": "stdout",
     "output_type": "stream",
     "text": [
      "100\n"
     ]
    }
   ],
   "source": [
    "#mul\n",
    "x=10\n",
    "y=10\n",
    "print(x*y)\n"
   ]
  },
  {
   "cell_type": "code",
   "execution_count": 7,
   "id": "0202d2eb-77d7-44ac-b494-fa82d816fbbb",
   "metadata": {},
   "outputs": [
    {
     "name": "stdout",
     "output_type": "stream",
     "text": [
      "3.0\n"
     ]
    }
   ],
   "source": [
    "#div\n",
    "x=6\n",
    "y=2\n",
    "print(x/y)\n"
   ]
  },
  {
   "cell_type": "code",
   "execution_count": 9,
   "id": "b5708031-5254-4aa1-a097-c4e5ae1eae1c",
   "metadata": {},
   "outputs": [
    {
     "name": "stdout",
     "output_type": "stream",
     "text": [
      "2\n"
     ]
    }
   ],
   "source": [
    "#modulus\n",
    "x=2\n",
    "y=5\n",
    "print(x%y)\n",
    "\n"
   ]
  },
  {
   "cell_type": "code",
   "execution_count": 15,
   "id": "077a6450-0d8c-45e5-ab58-a251504a452e",
   "metadata": {},
   "outputs": [
    {
     "name": "stdin",
     "output_type": "stream",
     "text": [
      "Enter the num: 5\n"
     ]
    },
    {
     "name": "stdout",
     "output_type": "stream",
     "text": [
      "1\n",
      "2\n",
      "6\n",
      "24\n",
      "120\n"
     ]
    }
   ],
   "source": [
    "#Factorial Number\n",
    "n=int(input(\"Enter the num:\"))\n",
    "factorial=1\n",
    "for i in range(1,n+1):\n",
    "    factorial=factorial*i\n",
    "    print(factorial)\n",
    "    "
   ]
  },
  {
   "cell_type": "code",
   "execution_count": 36,
   "id": "0932118e-82ec-4930-a4ae-784f7e793b42",
   "metadata": {},
   "outputs": [
    {
     "name": "stdin",
     "output_type": "stream",
     "text": [
      "Enter the number: 2\n"
     ]
    },
    {
     "name": "stdout",
     "output_type": "stream",
     "text": [
      "it is prime number\n"
     ]
    }
   ],
   "source": [
    "#Program to check prime number\n",
    "num=int(input(\"Enter the number:\")) \n",
    "for i in range(2,num):\n",
    "    if num%i==0:\n",
    "        print(\"it is not prime number:\")\n",
    "        break\n",
    "else:\n",
    "    print(\"it is prime number\")\n",
    "    \n",
    "    "
   ]
  },
  {
   "cell_type": "code",
   "execution_count": 37,
   "id": "58f71925-fe76-439d-8e33-0fdb017e0c8c",
   "metadata": {},
   "outputs": [
    {
     "name": "stdin",
     "output_type": "stream",
     "text": [
      "Enter the number: 10\n"
     ]
    },
    {
     "name": "stdout",
     "output_type": "stream",
     "text": [
      "it is not prime number:\n"
     ]
    }
   ],
   "source": [
    "#Program to check prime number\n",
    "num=int(input(\"Enter the number:\")) \n",
    "for i in range(2,num):\n",
    "    if num%i==0:\n",
    "        print(\"it is not prime number:\")\n",
    "        break\n",
    "else:\n",
    "    print(\"it is prime number\")\n",
    "    "
   ]
  },
  {
   "cell_type": "code",
   "execution_count": 38,
   "id": "2543ad9f-ae59-49d3-a232-d27187830e26",
   "metadata": {},
   "outputs": [
    {
     "name": "stdin",
     "output_type": "stream",
     "text": [
      "Enter the number: 123456789\n"
     ]
    },
    {
     "name": "stdout",
     "output_type": "stream",
     "text": [
      "987654321\n"
     ]
    }
   ],
   "source": [
    "#Reverse number\n",
    "reverse=input(\"Enter the number:\")\n",
    "print(reverse[::-1])\n"
   ]
  },
  {
   "cell_type": "code",
   "execution_count": 46,
   "id": "98e4337c-e77a-42f0-a9cf-aa887941cfee",
   "metadata": {},
   "outputs": [
    {
     "name": "stdin",
     "output_type": "stream",
     "text": [
      "Enter a string: MOM\n"
     ]
    },
    {
     "name": "stdout",
     "output_type": "stream",
     "text": [
      "is a palindrome\n"
     ]
    }
   ],
   "source": [
    "#Program to check string is palindrome or not\n",
    "n=input(\"Enter a string:\")\n",
    "if n==n[::-1]:\n",
    "    print(\"is a palindrome\")\n",
    "else:\n",
    "    print(\"is not a palindrome\")\n",
    "    \n",
    "    \n",
    "    "
   ]
  },
  {
   "cell_type": "code",
   "execution_count": 3,
   "id": "6617e109-dce6-41ea-b154-7c36dbc59676",
   "metadata": {},
   "outputs": [
    {
     "name": "stdout",
     "output_type": "stream",
     "text": [
      "A is an UpperCase character\n",
      "a is a LowerCase character\n",
      "# is not an alphabetic character\n"
     ]
    }
   ],
   "source": [
    "#Program to identify the input character by the user as alphabet lower case ,upper case numeric ,special character\n",
    "def check(char):\n",
    "    if 'A' <= char <= 'Z':\n",
    "        print(f\"{char} is an UpperCase character\")\n",
    "    elif 'a' <= char <= 'z':\n",
    "        print(f\"{char} is a LowerCase character\")\n",
    "    else:\n",
    "        print(f\"{char} is not an alphabetic character\")\n",
    "\n",
    "# Example usage:\n",
    "ch = 'A'\n",
    "check(ch) \n",
    "ch = 'a'\n",
    "check(ch)  \n",
    "ch = '#'\n",
    "check(ch) \n"
   ]
  },
  {
   "cell_type": "code",
   "execution_count": 58,
   "id": "aa587a17-3a32-4b2a-a481-40120fbe993c",
   "metadata": {},
   "outputs": [
    {
     "name": "stdin",
     "output_type": "stream",
     "text": [
      "Enter a character: a\n"
     ]
    },
    {
     "name": "stdout",
     "output_type": "stream",
     "text": [
      "it is lowercase alphabet\n"
     ]
    }
   ],
   "source": [
    "#Program to identify the input character by the user as alphabet lower case ,upper case numeric ,special character.\n",
    "character=input(\"Enter a character:\")\n",
    "if character.islower():\n",
    "    print(\"it is lowercase alphabet\")\n",
    "elif character.isuppercase():\n",
    "    print(\"it is uppercase alphabet\")\n",
    "elif character.isnumeric():\n",
    "    print(\"the input character is an numeric character\")\n",
    "else:\n",
    "    print(\"the input character is an special character\")\n",
    "    \n",
    "    \n",
    "\n",
    "    \n",
    "\n",
    "\n"
   ]
  }
 ],
 "metadata": {
  "kernelspec": {
   "display_name": "Python 3 (ipykernel)",
   "language": "python",
   "name": "python3"
  },
  "language_info": {
   "codemirror_mode": {
    "name": "ipython",
    "version": 3
   },
   "file_extension": ".py",
   "mimetype": "text/x-python",
   "name": "python",
   "nbconvert_exporter": "python",
   "pygments_lexer": "ipython3",
   "version": "3.12.3"
  }
 },
 "nbformat": 4,
 "nbformat_minor": 5
}
