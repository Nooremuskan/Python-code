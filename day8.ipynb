{
 "cells": [
  {
   "cell_type": "code",
   "execution_count": 4,
   "id": "63e3a481-8ff1-45a7-bab1-fcccf3551a67",
   "metadata": {},
   "outputs": [
    {
     "name": "stdout",
     "output_type": "stream",
     "text": [
      "[12, 23, 33, 34, 44, 45, 47, 55, 56, 67, 86, 89, 90, 97, 98, 99]\n"
     ]
    },
    {
     "name": "stdin",
     "output_type": "stream",
     "text": [
      " 99\n"
     ]
    },
    {
     "name": "stdout",
     "output_type": "stream",
     "text": [
      "index of element is 15\n",
      "low 0 high 16 mid 8\n",
      "low 9 high 16 mid 12\n",
      "low 13 high 16 mid 14\n",
      "low 15 high 16 mid 15\n",
      "Element found at 15\n"
     ]
    }
   ],
   "source": [
    "#BINARY SEARCH\n",
    "\n",
    "L=[23,45,67,89,33,56,98,90,44,34,55,86,47,97,12,99]\n",
    "L.sort()\n",
    "print(L)\n",
    "low = 0\n",
    "high = len(L)\n",
    "src=int(input())\n",
    "try:\n",
    "    print(\"index of element is\",L.index(src))\n",
    "except:\n",
    "    print(\"item not in list\")\n",
    "Flag=0\n",
    "while low<high:\n",
    "    mid=int(low+(high-low)/2)\n",
    "    print(\"low\",low,\"high\",high,\"mid\",mid)\n",
    "    if src<L[mid]:\n",
    "        high=mid-1\n",
    "    elif src>L[mid]:\n",
    "        low=mid+1\n",
    "    else:\n",
    "        Flag=1\n",
    "        break;\n",
    "\n",
    "if Flag==1:\n",
    "    print(\"Element found at\",mid)\n",
    "else:\n",
    "    print(\"Element not found:\")\n",
    "    "
   ]
  },
  {
   "cell_type": "code",
   "execution_count": 3,
   "id": "0359ba12-1c91-4c52-b8d6-f586a29f5a7b",
   "metadata": {},
   "outputs": [
    {
     "name": "stdin",
     "output_type": "stream",
     "text": [
      " this is (a) string\n"
     ]
    },
    {
     "name": "stdout",
     "output_type": "stream",
     "text": [
      "Valid String\n"
     ]
    }
   ],
   "source": [
    "#TO CHECK VALID STRING\n",
    "\n",
    "S=input()\n",
    "x=y=z=0\n",
    "for c in S:\n",
    "    match(c):\n",
    "        case '(':x+=1\n",
    "        case ')':x-=1\n",
    "        case '{':y+=1\n",
    "        case '}':y-=1\n",
    "        case '[':z+=1\n",
    "        case ']':z-=1\n",
    "        case _:continue\n",
    "\n",
    "if x+y+z == 0:\n",
    "    print(\"Valid String\")\n",
    "else:\n",
    "    print(\"Invalid String\")\n",
    "            "
   ]
  },
  {
   "cell_type": "code",
   "execution_count": 35,
   "id": "66167234-b4e2-405d-a90d-8fc93e488aae",
   "metadata": {},
   "outputs": [
    {
     "name": "stdin",
     "output_type": "stream",
     "text": [
      "Enter the new value: 100\n"
     ]
    },
    {
     "name": "stdout",
     "output_type": "stream",
     "text": [
      "[10, 20, 40, 15, 25, 50, 90, 100]\n"
     ]
    },
    {
     "name": "stdin",
     "output_type": "stream",
     "text": [
      "Enter the remove value: 25\n"
     ]
    },
    {
     "name": "stdout",
     "output_type": "stream",
     "text": [
      "[10, 20, 40, 15, 50, 90, 100]\n"
     ]
    }
   ],
   "source": [
    "#STACK\n",
    "\n",
    "a=int(input(\"Enter the new value:\"))\n",
    "S=[10,20,40,15,25,50,90]\n",
    "S.append(100)\n",
    "print(S)\n",
    "a=int(input(\"Enter the remove value:\"))\n",
    "S.remove(25)\n",
    "print(S)"
   ]
  },
  {
   "cell_type": "code",
   "execution_count": 9,
   "id": "b67dcf95-bc2b-4f0e-bebd-a091afd62b3d",
   "metadata": {},
   "outputs": [
    {
     "name": "stdout",
     "output_type": "stream",
     "text": [
      "Item added to stack\n",
      "Item added to stack\n",
      "Item added to stack\n",
      "Item added to stack\n",
      "Item added to stack\n",
      "[2, 3, 5, 4, 9]\n",
      "Item removed from stack\n",
      "[2, 5, 4, 9]\n"
     ]
    }
   ],
   "source": [
    "#STACK\n",
    "\n",
    "def add(E):\n",
    "    s.append(E)\n",
    "    print(\"Item added to stack\")\n",
    "\n",
    "def delete(E):\n",
    "    s.pop(E)\n",
    "    print(\"Item removed from stack\")\n",
    "\n",
    "s=[]\n",
    "add(2)\n",
    "add(3)\n",
    "add(5)\n",
    "add(4)\n",
    "add(9)\n",
    "print(s)\n",
    "\n",
    "delete(1)\n",
    "print(s)\n"
   ]
  },
  {
   "cell_type": "code",
   "execution_count": null,
   "id": "82e57406-7ae5-476e-bafc-f9444b0dd2de",
   "metadata": {},
   "outputs": [],
   "source": [
    "\n",
    "\n",
    "\n"
   ]
  },
  {
   "cell_type": "code",
   "execution_count": null,
   "id": "3c7b4e25-6fa4-49e4-b8da-97bb09ec042b",
   "metadata": {},
   "outputs": [],
   "source": []
  }
 ],
 "metadata": {
  "kernelspec": {
   "display_name": "Python 3 (ipykernel)",
   "language": "python",
   "name": "python3"
  },
  "language_info": {
   "codemirror_mode": {
    "name": "ipython",
    "version": 3
   },
   "file_extension": ".py",
   "mimetype": "text/x-python",
   "name": "python",
   "nbconvert_exporter": "python",
   "pygments_lexer": "ipython3",
   "version": "3.12.3"
  }
 },
 "nbformat": 4,
 "nbformat_minor": 5
}
