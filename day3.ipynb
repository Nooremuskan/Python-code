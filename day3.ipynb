{
 "cells": [
  {
   "cell_type": "code",
   "execution_count": 5,
   "id": "191ad912-a966-4953-8816-f8c8d044d6ae",
   "metadata": {},
   "outputs": [
    {
     "name": "stdout",
     "output_type": "stream",
     "text": [
      "muskan\n"
     ]
    }
   ],
   "source": [
    "#List using loop\n",
    "x=[\"muskan\",\"salma\",\"azeeziya\"]\n",
    "for a in range(0,1):\n",
    "    print(x[a])\n",
    "    "
   ]
  },
  {
   "cell_type": "code",
   "execution_count": 7,
   "id": "d02baa65-fa34-459e-baf2-0c1c0564b98f",
   "metadata": {},
   "outputs": [
    {
     "name": "stdout",
     "output_type": "stream",
     "text": [
      "[1, 2, 3, 4, 5, 6]\n"
     ]
    }
   ],
   "source": [
    "#List\n",
    "a=[1,2,3,4,5,6]\n",
    "print(a)\n"
   ]
  },
  {
   "cell_type": "code",
   "execution_count": 8,
   "id": "ad03eafb-7664-4b0b-b275-fd648f552fb3",
   "metadata": {},
   "outputs": [
    {
     "name": "stdout",
     "output_type": "stream",
     "text": [
      "[1, 2, 3, 4, 5, 6]\n",
      "<class 'list'>\n",
      "2 3\n"
     ]
    }
   ],
   "source": [
    "a=[1,2,3,4,5,6]\n",
    "print(a)\n",
    "print(type(a))\n",
    "print(2,3)\n"
   ]
  },
  {
   "cell_type": "code",
   "execution_count": 9,
   "id": "7e84999f-2e5b-442c-b486-3d48e571d50f",
   "metadata": {},
   "outputs": [
    {
     "name": "stdout",
     "output_type": "stream",
     "text": [
      "[1, 2, 3, 4, 5, 6, 'mussu']\n",
      "<class 'list'>\n",
      "4 2\n"
     ]
    }
   ],
   "source": [
    "a=[1,2,3,4,5,6,\"mussu\"]\n",
    "print(a)\n",
    "print(type(a))\n",
    "print(4,2)\n"
   ]
  },
  {
   "cell_type": "markdown",
   "id": "1f425eee-92b6-4a17-8d3c-1975c3355bdd",
   "metadata": {},
   "source": [
    "\n",
    "->pop to pull out element of the list(default is last) ex: list.pop\n",
    "->sort the list in ascending order and return none\n",
    "->def copy is use to copy of the same list\n",
    "->append object to the end of list\n",
    "->extend the list by appending and iterating\n",
    "->index return first index of value\n",
    "->count will count the num of duplicates\n",
    "->insert will insert the object before index\n",
    "->remove will remove the first occurence of value\n",
    "->len is used to find the lenght of a list"
   ]
  },
  {
   "cell_type": "code",
   "execution_count": 20,
   "id": "d16af135-a9de-46a0-945e-1418bff97ce6",
   "metadata": {},
   "outputs": [
    {
     "name": "stdout",
     "output_type": "stream",
     "text": [
      "[1, 2, 3, 4, 5, 6, 7, 8, 9, 10]\n",
      "4\n",
      "[1, 2, 3, 5, 6, 7, 8, 9, 10, 3, 3, 10]\n",
      "2\n",
      "3\n",
      "2\n",
      "[1, 2, 3, 5, 9, 6, 7, 8, 9, 10, 3, 3, 10]\n",
      "[1, 2, 5, 9, 6, 7, 8, 9, 10, 3, 3, 10]\n",
      "[1, 2, 3, 3, 5, 6, 7, 8, 9, 9, 10, 10]\n",
      "[10, 10, 9, 9, 8, 7, 6, 5, 3, 3, 2, 1]\n",
      "12\n",
      "[10, 10, 9, 9, 8, 7, 6, 5, 3, 3, 2, 1, 1, 2, 3, 4, 5, 6, 7, 8, 9, 10]\n",
      "[10, 10, 9, 9, 8, 7, 6, 5, 3, 3, 2, 1, 1, 2, 3, 4, 5, 6, 7, 8, 9, 10, 1, 2, 3, 4, 5, 6, 7, 8, 9, 10]\n"
     ]
    }
   ],
   "source": [
    "#List Operation's\n",
    "a=[1,2,3,4,5,6,7,8,9,10]\n",
    "b=a.copy()\n",
    "print(b)\n",
    "\n",
    "c=b.pop(3)\n",
    "print(c)\n",
    "\n",
    "b.append(3)\n",
    "b.append(3)\n",
    "b.append(10)\n",
    "print(b)\n",
    "print(b.index(3))\n",
    "print(b.count(3))\n",
    "print(b.count(10))\n",
    "\n",
    "b.insert(4,9)\n",
    "print(b)\n",
    "b.remove(3)\n",
    "print(b)\n",
    "b.sort()\n",
    "print(b)\n",
    "b.sort(reverse=True)\n",
    "print(b)\n",
    "\n",
    "print(len(b))\n",
    "\n",
    "b.extend(a)\n",
    "print(b)\n",
    "print(b+a)\n",
    "\n",
    "\n"
   ]
  },
  {
   "cell_type": "code",
   "execution_count": 21,
   "id": "8f1276eb-90b0-4716-bc30-2259e6cd40f5",
   "metadata": {},
   "outputs": [
    {
     "name": "stdout",
     "output_type": "stream",
     "text": [
      "10\n",
      "9\n",
      "7\n",
      "63\n",
      "5\n",
      "3\n",
      "3\n",
      "2\n",
      "1\n",
      "11\n",
      "2\n",
      "3\n",
      "42\n",
      "54\n",
      "1\n",
      "2\n",
      "36\n",
      "4\n",
      "5\n"
     ]
    }
   ],
   "source": [
    "a=[10,9,7,63,5,3,3,2,1,11,2,3,42,54,1,2,36,4,5]\n",
    "for x in a:\n",
    "    print(x)"
   ]
  },
  {
   "cell_type": "code",
   "execution_count": 23,
   "id": "a096a07a-e51b-458f-9cf0-d19a931d6e15",
   "metadata": {},
   "outputs": [
    {
     "name": "stdin",
     "output_type": "stream",
     "text": [
      "Enter the size 0t list: 5\n",
      " 7\n",
      " 3\n",
      " 5\n",
      " 8\n",
      " 3\n"
     ]
    },
    {
     "name": "stdout",
     "output_type": "stream",
     "text": [
      "['7', '3', '5', '8', '3']\n"
     ]
    }
   ],
   "source": [
    "n=int(input(\"Enter the size 0t list:\"))\n",
    "a=[]\n",
    "for x in range(0,n):\n",
    "    x=input()\n",
    "    a.append(x)\n",
    "print(a)\n",
    "    \n",
    "    \n"
   ]
  },
  {
   "cell_type": "code",
   "execution_count": 24,
   "id": "95229369-4aeb-42b3-890c-8ee9ca5a3122",
   "metadata": {},
   "outputs": [
    {
     "name": "stdin",
     "output_type": "stream",
     "text": [
      "Enter the elements of list: 1 2 3 4 5 6 7\n"
     ]
    },
    {
     "name": "stdout",
     "output_type": "stream",
     "text": [
      "['1', '2', '3', '4', '5', '6', '7']\n"
     ]
    }
   ],
   "source": [
    "L=[item for item in (input(\"Enter the elements of list:\").split())]\n",
    "print(L)\n"
   ]
  },
  {
   "cell_type": "code",
   "execution_count": 25,
   "id": "109ec9a3-18b7-4475-b38a-477129abfb0f",
   "metadata": {},
   "outputs": [
    {
     "name": "stdin",
     "output_type": "stream",
     "text": [
      "Enter the elements of list: 1 2 3 4 5 6 7\n"
     ]
    },
    {
     "name": "stdout",
     "output_type": "stream",
     "text": [
      "[1, 2, 3, 4, 5, 6, 7]\n"
     ]
    }
   ],
   "source": [
    "L=[int(item) for item in (input(\"Enter the elements of list:\").split())]\n",
    "print(L)\n"
   ]
  },
  {
   "cell_type": "code",
   "execution_count": 26,
   "id": "45145729-92ff-420d-8873-39aa71b4d5f4",
   "metadata": {},
   "outputs": [
    {
     "name": "stdout",
     "output_type": "stream",
     "text": [
      "[1, 2, 3, 4, 5]\n"
     ]
    }
   ],
   "source": [
    "#List constructor\n",
    "\n",
    "a=list([1,2,3,4,5])\n",
    "print(a)\n"
   ]
  },
  {
   "cell_type": "code",
   "execution_count": null,
   "id": "82aa7707-a2df-48e9-9f63-250246990937",
   "metadata": {},
   "outputs": [],
   "source": [
    "TUPLES"
   ]
  },
  {
   "cell_type": "code",
   "execution_count": 27,
   "id": "3d96d5c6-4096-4be4-86e1-6cc8fb89b04d",
   "metadata": {},
   "outputs": [
    {
     "name": "stdout",
     "output_type": "stream",
     "text": [
      "(1, 2, 3, 4, 5.5, 'Raj')\n"
     ]
    }
   ],
   "source": [
    "a=(1,2,3,4,5.5,\"Raj\")\n",
    "print(a)\n"
   ]
  },
  {
   "cell_type": "code",
   "execution_count": 29,
   "id": "b5bd0ad5-dda2-4867-9c1d-dd22dbb651e0",
   "metadata": {},
   "outputs": [
    {
     "name": "stdout",
     "output_type": "stream",
     "text": [
      "(1, 2, 3, 4, 5.5, 'Salma')\n",
      "[1, 2, 3, 4, 5.5, 'Salma']\n",
      "(1, 2, 3, 4, 5.5, 'Mussu')\n"
     ]
    }
   ],
   "source": [
    "#CONVERTING TUPLE TO LIST & LIST TO TUPLE\n",
    "a=(1,2,3,4,5.5,\"Salma\")\n",
    "print(a)\n",
    "\n",
    "b=list(a)\n",
    "print(b)\n",
    "b[5]=\"Mussu\"\n",
    "\n",
    "a=tuple(b)\n",
    "print(a)\n",
    "\n"
   ]
  },
  {
   "cell_type": "code",
   "execution_count": 14,
   "id": "ba14666a-4211-4ded-935c-bea8537b57dd",
   "metadata": {},
   "outputs": [
    {
     "name": "stdout",
     "output_type": "stream",
     "text": [
      "9\n",
      "8\n",
      "7\n",
      "6\n",
      "5\n",
      "4\n",
      "3\n",
      "2\n",
      "1\n"
     ]
    }
   ],
   "source": [
    "a=(1,2,3,4,5,6,7,8,9)\n",
    "\n",
    "for x in range(-1,-1*(len(a)+1),-1):\n",
    "    print(a[x])\n",
    "    \n",
    "    "
   ]
  },
  {
   "cell_type": "code",
   "execution_count": 9,
   "id": "ef47dfc1-9548-4453-8565-9617e51f09d6",
   "metadata": {},
   "outputs": [
    {
     "name": "stdout",
     "output_type": "stream",
     "text": [
      "9\n",
      "8\n",
      "7\n",
      "6\n",
      "5\n",
      "4\n",
      "3\n",
      "2\n",
      "1\n"
     ]
    }
   ],
   "source": [
    "a=(1,2,3,4,5,6,7,8,9)\n",
    "\n",
    "for x in range(0,len(a)):\n",
    "    print(a[-1*(x+1)])\n",
    "    "
   ]
  },
  {
   "cell_type": "code",
   "execution_count": null,
   "id": "7c6e5e09-8f60-4876-9283-aafc9f7348ef",
   "metadata": {},
   "outputs": [],
   "source": [
    "Dictionary\n",
    "\n",
    "key and values\n",
    "\n",
    "key values Pair"
   ]
  },
  {
   "cell_type": "code",
   "execution_count": 24,
   "id": "cbdf9da6-3562-4775-9dc6-56cdff6bc1c6",
   "metadata": {},
   "outputs": [
    {
     "name": "stdout",
     "output_type": "stream",
     "text": [
      "{1: 'mus', 2: 'sal', 3: 'azee'}\n",
      "sal\n",
      "dict_keys([1, 2, 3])\n",
      "dict_values(['mus', 'sal', 'azee'])\n",
      "dict_items([(1, 'mus'), (2, 'sal'), (3, 'azee')])\n",
      "None\n"
     ]
    }
   ],
   "source": [
    "D={1:\"mus\",2:\"sal\",3:\"azee\"}\n",
    "print(D)\n",
    "print(D[2])\n",
    "print(D.keys())\n",
    "print(D.values())\n",
    "print(D.items())\n",
    "\n",
    "print(D.get(4))"
   ]
  },
  {
   "cell_type": "code",
   "execution_count": 1,
   "id": "481f31de-f528-4960-9b5d-1c6d1213541f",
   "metadata": {},
   "outputs": [
    {
     "name": "stdout",
     "output_type": "stream",
     "text": [
      "{1: 'anam', 2: 'alina', 3: 'sana'}\n",
      "dict_keys([1, 2, 3])\n",
      "dict_items([(1, 'anam'), (2, 'alina'), (3, 'sana')])\n",
      "dict_values(['anam', 'alina', 'sana'])\n",
      "{1: 'anam', 2: 'alina', 3: 'sana', 4: 'mus'}\n",
      "None\n",
      "dict_items([(1, 'anam'), (2, 'alina'), (3, 'sana'), (4, 'mus')])\n"
     ]
    }
   ],
   "source": [
    "#write a program to take key & value as input from the user and add it to the dictioary if key is not present in dictionary otherwise printkey already exits and also print its value \n",
    "\n",
    "d={1:\"anam\",2:\"alina\",3:\"sana\"}\n",
    "print(d)\n",
    "print(d.keys())\n",
    "print(d.items())\n",
    "print(d.values())\n",
    "d[4]=\"mus\"\n",
    "\n",
    "print(d)\n",
    "print(d.get(6))\n",
    "print(d.items())"
   ]
  },
  {
   "cell_type": "code",
   "execution_count": null,
   "id": "af5b1a41-af77-471d-884c-2304fb1a60ed",
   "metadata": {},
   "outputs": [],
   "source": [
    "Error Exception"
   ]
  },
  {
   "cell_type": "code",
   "execution_count": 24,
   "id": "3e67d802-9a56-426d-a0ea-7b87df7e9673",
   "metadata": {},
   "outputs": [
    {
     "name": "stdin",
     "output_type": "stream",
     "text": [
      "enter the index value 24\n"
     ]
    },
    {
     "name": "stdout",
     "output_type": "stream",
     "text": [
      "there is no value in that index\n"
     ]
    }
   ],
   "source": [
    "a=[1,2,3,4,5]\n",
    "i=int(input(\"enter the index value\"))\n",
    "try:\n",
    "    print(a[i])\n",
    "except:\n",
    "    print(\"there is no value in that index\")"
   ]
  },
  {
   "cell_type": "code",
   "execution_count": 7,
   "id": "b9afc501-a77c-46d4-8dee-d70141dfe1ae",
   "metadata": {},
   "outputs": [
    {
     "name": "stdout",
     "output_type": "stream",
     "text": [
      "can't Divide by zero\n",
      "code execution done\n"
     ]
    }
   ],
   "source": [
    "try:\n",
    "    c=10/0\n",
    "except ValueError:\n",
    "    print(\"Data Type Issue\")\n",
    "except ZeroDivisionError:\n",
    "    print(\"can't Divide by zero\")\n",
    "except:\n",
    "    print(\"Some Unknown Error Found\")\n",
    "else:\n",
    "    print(\"No Error\")\n",
    "finally:\n",
    "    print(\"code execution done\")"
   ]
  },
  {
   "cell_type": "code",
   "execution_count": 5,
   "id": "897bc837-5089-4d03-a30a-a3c601de7d13",
   "metadata": {},
   "outputs": [
    {
     "name": "stdin",
     "output_type": "stream",
     "text": [
      " 5\n",
      " 2\n"
     ]
    },
    {
     "name": "stdout",
     "output_type": "stream",
     "text": [
      "Some Unknown Error Found\n",
      "code execution done\n"
     ]
    }
   ],
   "source": [
    "try:\n",
    "    a=input()\n",
    "    b=input()\n",
    "    c=int(a)/int(b)\n",
    "    x=\"hello\"/3\n",
    "except ValueError:\n",
    "    print(\"value unable to convert\")\n",
    "except ZeroDivisionError:\n",
    "    print(\"can't Divide by zero\")\n",
    "except:\n",
    "    print(\"Some Unknown Error Found\")\n",
    "else:\n",
    "    print(\"No Error\")\n",
    "finally:\n",
    "    print(\"code execution done\")"
   ]
  },
  {
   "cell_type": "code",
   "execution_count": 6,
   "id": "867df36a-e87d-4e62-9ff4-8f392e06029f",
   "metadata": {},
   "outputs": [
    {
     "name": "stdin",
     "output_type": "stream",
     "text": [
      " 5\n",
      " 0\n"
     ]
    },
    {
     "name": "stdout",
     "output_type": "stream",
     "text": [
      "can't Divide by zero\n",
      "code execution done\n"
     ]
    }
   ],
   "source": [
    "try:\n",
    "    a=input()\n",
    "    b=input()\n",
    "    c=int(a)/int(b)\n",
    "except ValueError:\n",
    "    print(\"Data Type Issue\")\n",
    "except ZeroDivisionError:\n",
    "    print(\"can't Divide by zero\")\n",
    "except:\n",
    "    print(\"Some Unknown Error Found\")\n",
    "else:\n",
    "    print(\"No Error\")\n",
    "finally:\n",
    "    print(\"code execution done\")"
   ]
  },
  {
   "cell_type": "markdown",
   "id": "f5f20071-d85c-4f2f-89dc-baa767800afc",
   "metadata": {},
   "source": []
  }
 ],
 "metadata": {
  "kernelspec": {
   "display_name": "Python 3 (ipykernel)",
   "language": "python",
   "name": "python3"
  },
  "language_info": {
   "codemirror_mode": {
    "name": "ipython",
    "version": 3
   },
   "file_extension": ".py",
   "mimetype": "text/x-python",
   "name": "python",
   "nbconvert_exporter": "python",
   "pygments_lexer": "ipython3",
   "version": "3.12.3"
  }
 },
 "nbformat": 4,
 "nbformat_minor": 5
}
