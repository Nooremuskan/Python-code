{
 "cells": [
  {
   "cell_type": "markdown",
   "id": "d2a10a55-63e4-4206-a7e3-377c9681cc02",
   "metadata": {},
   "source": [
    "Ooops Concept\n",
    "    "
   ]
  },
  {
   "cell_type": "code",
   "execution_count": 1,
   "id": "09b12064-b814-4a98-9f5f-d9a235b56326",
   "metadata": {},
   "outputs": [
    {
     "name": "stdout",
     "output_type": "stream",
     "text": [
      "<class 'int'>\n"
     ]
    }
   ],
   "source": [
    "a=5\n",
    "print(type(a))\n"
   ]
  },
  {
   "cell_type": "code",
   "execution_count": 15,
   "id": "7fc778e3-8bfb-4917-ad73-52280dc4e454",
   "metadata": {},
   "outputs": [
    {
     "name": "stdout",
     "output_type": "stream",
     "text": [
      "This laptop is 8gb Ram 512ssd\n",
      "0\n",
      "1\n",
      "0\n"
     ]
    }
   ],
   "source": [
    "class laptop:\n",
    "    a=0\n",
    "    def config(self):\n",
    "        print(\"This laptop is 8gb Ram 512ssd\")\n",
    "    \n",
    "        \n",
    "hp = laptop()\n",
    "dell = laptop()\n",
    "lenovo = laptop()\n",
    "\n",
    "hp.config()\n",
    "print(hp.a)\n",
    "hp.a=hp.a+1\n",
    "print(hp.a)\n",
    "print(dell.a)"
   ]
  },
  {
   "cell_type": "code",
   "execution_count": 13,
   "id": "0fb734e3-4c99-4f95-a847-29ce1b07bdd8",
   "metadata": {},
   "outputs": [
    {
     "name": "stdout",
     "output_type": "stream",
     "text": [
      "0\n",
      "20\n"
     ]
    }
   ],
   "source": [
    "class laptop:\n",
    "    a=0\n",
    "    def config(self):\n",
    "        print(\"This laptop is 8gb Ram 512ssd\")\n",
    "        \n",
    "    def __init__(self,value):\n",
    "        self.b=value\n",
    "       \n",
    "        \n",
    "\n",
    "Acer = laptop(20)\n",
    "\n",
    "print(Acer.a)\n",
    "print(Acer.b)\n"
   ]
  },
  {
   "cell_type": "markdown",
   "id": "b6119052-451b-467c-86dd-52edcf7cdac6",
   "metadata": {},
   "source": [
    "Create a laptop class\n",
    "with variable as processor, Ram and storage\n",
    "\n",
    "create function to print the configuration of the laptops.\n",
    "\n",
    "create 3 object of laptop with different brand and dispaly its configuration"
   ]
  },
  {
   "cell_type": "code",
   "execution_count": 30,
   "id": "dcfdf187-d84c-4631-85d1-ec8307a14aa8",
   "metadata": {},
   "outputs": [
    {
     "name": "stdout",
     "output_type": "stream",
     "text": [
      "configuration of the laptop is:\n",
      "processor i5\n",
      "ram 8\n",
      "storage 512\n"
     ]
    }
   ],
   "source": [
    "class laptop:\n",
    "\n",
    "    def __init__(self,p,r,s):\n",
    "        self.processor=p\n",
    "        self.ram=r\n",
    "        self.storage=s\n",
    "        \n",
    "    \n",
    "\n",
    "    def config(self):\n",
    "         print(\"configuration of the laptop is:\")\n",
    "         print(\"processor\",self.processor)\n",
    "         print(\"ram\",self.ram)\n",
    "         print(\"storage\",self.storage)\n",
    "        \n",
    "if __name__==\"__main__\":\n",
    "    asus = laptop(\"i5\",8,512)\n",
    "    asus.config()\n",
    "    "
   ]
  },
  {
   "cell_type": "markdown",
   "id": "f871b730-891a-4a2f-84ae-4274021c530d",
   "metadata": {},
   "source": [
    "craete a class student which can hold the marks in 5 subjects and also create a functions to print the \n",
    "marks and calculate the avg of 5 subjects"
   ]
  },
  {
   "cell_type": "code",
   "execution_count": 47,
   "id": "d1d4d638-f5ab-4880-b747-7d1516b2090f",
   "metadata": {},
   "outputs": [
    {
     "name": "stdout",
     "output_type": "stream",
     "text": [
      "the students marks is :\n",
      "dsa 80\n",
      "java 90\n",
      "dco 68\n",
      "rprogramming 75\n",
      "os 88\n"
     ]
    }
   ],
   "source": [
    "class student:\n",
    "\n",
    "    def __init__(self,d,j,c,r,o):\n",
    "        self.dsa=d\n",
    "        self.java=j\n",
    "        self.dco=c\n",
    "        self.rprogramming=r\n",
    "        self.os=o\n",
    "\n",
    "    def config(self):\n",
    "        print(\"the students marks is :\")\n",
    "        print(\"dsa\",self.dsa)\n",
    "        print(\"java\",self.java)\n",
    "        print(\"dco\",self.dco)\n",
    "        print(\"rprogramming\",self.rprogramming)\n",
    "        print(\"os\",self.os)\n",
    "        \n",
    "\n",
    "if __name__==\"__main__\":\n",
    "    a=student(80,90,68,75,88)\n",
    "    a.config()"
   ]
  },
  {
   "cell_type": "code",
   "execution_count": null,
   "id": "ea2d13ab-8623-4be8-8b6e-c1a764cee746",
   "metadata": {},
   "outputs": [],
   "source": [
    "#Acess Modifiers\n",
    "#Public normal\n",
    "#Protected_\n",
    "#Private__\n",
    "\n",
    "class demo:\n",
    "    def __init__(Self,a,b,c):\n",
    "        self.x=a\n",
    "        self._y=b\n",
    "        self.__z=c\n",
    "    def output_Z(self):\n",
    "        print(self.__z)\n",
    "    def output_X(self):\n",
    "        print(self.x)\n",
    "    def output_Y(self):\n",
    "         print(self._y)\n",
    "\n",
    "ob1=demo(1,2,3)\n",
    "ob1.output_x()\n",
    "ob1.output_y()\n",
    "ob1.output_z()\n"
   ]
  },
  {
   "cell_type": "code",
   "execution_count": 2,
   "id": "344fad20-0dc2-4961-8fda-b957d3f3a8cb",
   "metadata": {},
   "outputs": [
    {
     "name": "stdout",
     "output_type": "stream",
     "text": [
      "constructors of class b\n"
     ]
    }
   ],
   "source": [
    "class a:\n",
    "    def __init__(self):\n",
    "        print(\"constructors of class a\")\n",
    "        \n",
    "class b:\n",
    "    def __init__(self):\n",
    "        print(\"constructors of class b\")\n",
    "\n",
    "class c:\n",
    "    def __init__(self):\n",
    "        print(\"constructors of class c\")\n",
    "\n",
    "class d:\n",
    "    def __init__(self):\n",
    "        print(\"constructors of class d\")\n",
    "\n",
    "if __name__==\"__main__\":\n",
    "    ob1=b()"
   ]
  },
  {
   "cell_type": "code",
   "execution_count": 19,
   "id": "7c3d7653-7849-419a-b1bb-e9508dbc3d14",
   "metadata": {},
   "outputs": [
    {
     "name": "stdout",
     "output_type": "stream",
     "text": [
      "constructors of class b\n"
     ]
    }
   ],
   "source": [
    "class a:\n",
    "    def __init__(self):\n",
    "        print(\"constructors of class a\")\n",
    "        \n",
    "class b:\n",
    "    def __init__(self):\n",
    "        print(\"constructors of class b\")\n",
    "\n",
    "class c:\n",
    "    def __init__(self,a):\n",
    "        print(\"constructors of class c with\",a)\n",
    "\n",
    "class d:\n",
    "    def __init__(self,a,b):\n",
    "        print(\"constructors of class d\")\n",
    "\n",
    "if __name__==\"__main__\":\n",
    "    ob1=b()\n",
    "\n"
   ]
  },
  {
   "cell_type": "code",
   "execution_count": 30,
   "id": "acfcb146-0766-40b5-9a0e-ad2dcace66e4",
   "metadata": {},
   "outputs": [
    {
     "ename": "SyntaxError",
     "evalue": "invalid syntax (2679901760.py, line 5)",
     "output_type": "error",
     "traceback": [
      "\u001b[1;36m  Cell \u001b[1;32mIn[30], line 5\u001b[1;36m\u001b[0m\n\u001b[1;33m    def __init__(self.c):\u001b[0m\n\u001b[1;37m                     ^\u001b[0m\n\u001b[1;31mSyntaxError\u001b[0m\u001b[1;31m:\u001b[0m invalid syntax\n"
     ]
    }
   ],
   "source": [
    "class c:\n",
    "    def __init__(self):\n",
    "        print(\"constructor of class c\")\n",
    "        \n",
    "    def __init__(self.c):\n",
    "        print(\"fun of class c with\",a,b) \n",
    "\n",
    "ob=c()\n",
    "ob.abc(1)\n",
    "ob.abc(1,2)"
   ]
  },
  {
   "cell_type": "code",
   "execution_count": 7,
   "id": "f5724153-0559-4822-84b3-e2b34d07b847",
   "metadata": {},
   "outputs": [
    {
     "name": "stdout",
     "output_type": "stream",
     "text": [
      "professional laptop having 8 512 6 i5\n",
      "gaming laptop having 9 535 2 i7\n"
     ]
    }
   ],
   "source": [
    "#multiple inheritance\n",
    "\n",
    "class laptop:\n",
    "    def __init__(self,p,r,s):\n",
    "        self.processor=p\n",
    "        self.ram=r\n",
    "        self.storage=s\n",
    "\n",
    "class prof_laptop(laptop):\n",
    "    def __init__(self,bat,p,r,s):\n",
    "        self.battery=bat\n",
    "        super().__init__(p,r,s)\n",
    "        \n",
    "class gaming(laptop):\n",
    "    def __init__(self,graph,p,r,s):\n",
    "        self.graph=graph\n",
    "        super().__init__(p,r,s)\n",
    "\n",
    "pro1=prof_laptop(\"i5\",8,512,6)\n",
    "gam1=gaming(\"i7\",9,535,2)\n",
    "\n",
    "print(\"professional laptop having\",\n",
    "      pro1.processor,pro1.ram,\n",
    "      pro1.storage,pro1.battery)\n",
    "print(\"gaming laptop having\",\n",
    "      gam1.processor,gam1.ram,\n",
    "      gam1.storage,gam1.graph)"
   ]
  },
  {
   "cell_type": "code",
   "execution_count": 58,
   "id": "f8a28e1a-f51d-4f20-93ac-ca5ec6ac4f3a",
   "metadata": {},
   "outputs": [
    {
     "name": "stdout",
     "output_type": "stream",
     "text": [
      "Ticket booked Fare Price will be:  4050\n"
     ]
    }
   ],
   "source": [
    " \n",
    "class ticket:\n",
    "   \n",
    "    def __init__(self,D):\n",
    "        self.distance = int(D)\n",
    "        self.farePrice = None\n",
    "\n",
    "class gen(ticket):\n",
    "    def __init__(self,D):\n",
    "        super().__init__(D)\n",
    "    def print_ticket(self):\n",
    "        self.farePrice=50+(self.distance*2)\n",
    "        return self.farePrice\n",
    "        \n",
    "\n",
    "\n",
    "class slp(gen):\n",
    "    def __init__(self,D):\n",
    "        super().__init__(D)\n",
    "\n",
    "    def print_ticket(self):\n",
    "        self.farePrice=super().print_ticket()+(2*self.distance)\n",
    "        return self.farePrice\n",
    "\n",
    "class AC(slp):\n",
    "    def __init__(self,D):\n",
    "        super().__init__(D)\n",
    "    def print_ticket(self):\n",
    "        self.farePrice=super().print_ticket()+(4*self.distance)\n",
    "        return self.farePrice\n",
    "\n",
    "class FC(AC):\n",
    "    def __init__(self,D):\n",
    "        super().__init__(D)\n",
    "    def print_ticket(self):\n",
    "        self.farePrice=super().print_ticket()+(5*self.distance)\n",
    "        return self.farePrice\n",
    "\n",
    "jur = AC(500)\n",
    "print(\"Ticket booked Fare Price will be: \",jur.print_ticket())\n",
    "        \n",
    "        "
   ]
  },
  {
   "cell_type": "code",
   "execution_count": null,
   "id": "9ace8eaa-dcb5-4d9a-9ef3-855e7a45c420",
   "metadata": {},
   "outputs": [],
   "source": []
  }
 ],
 "metadata": {
  "kernelspec": {
   "display_name": "Python 3 (ipykernel)",
   "language": "python",
   "name": "python3"
  },
  "language_info": {
   "codemirror_mode": {
    "name": "ipython",
    "version": 3
   },
   "file_extension": ".py",
   "mimetype": "text/x-python",
   "name": "python",
   "nbconvert_exporter": "python",
   "pygments_lexer": "ipython3",
   "version": "3.12.3"
  }
 },
 "nbformat": 4,
 "nbformat_minor": 5
}
