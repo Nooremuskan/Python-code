{
 "cells": [
  {
   "cell_type": "code",
   "execution_count": 4,
   "id": "db64cf28-0d8f-4c5a-a107-af043721000a",
   "metadata": {},
   "outputs": [
    {
     "name": "stdin",
     "output_type": "stream",
     "text": [
      "Enter the temperature in celsius :  30\n"
     ]
    },
    {
     "name": "stdout",
     "output_type": "stream",
     "text": [
      " 30.000000 c = 86.00 \n"
     ]
    }
   ],
   "source": [
    "#Convert a temperature from Celsius to Fahrenheit.\n",
    "\n",
    "celsius = float(input(\"Enter the temperature in celsius : \"))\n",
    "fahrenheit = (celsius * 1.8)+ 32\n",
    "print(\" %2f c = %.2f \" %(celsius,fahrenheit))"
   ]
  },
  {
   "cell_type": "code",
   "execution_count": 7,
   "id": "782f299f-4281-4824-a3d1-87fdd1db3161",
   "metadata": {},
   "outputs": [
    {
     "name": "stdout",
     "output_type": "stream",
     "text": [
      "[0, 1, 3, 5, 7, 9]\n",
      "second largest element is : 7\n"
     ]
    }
   ],
   "source": [
    "#Find the second largest element in a list.\n",
    "\n",
    "list =[1,3,5,7,9,0]\n",
    "\n",
    "list.sort()\n",
    "print(list)\n",
    "element = list[-2]\n",
    "\n",
    "print(\"second largest element is :\",element)"
   ]
  },
  {
   "cell_type": "code",
   "execution_count": 32,
   "id": "60747fb7-cc10-431d-8416-b7fab337b3a6",
   "metadata": {},
   "outputs": [
    {
     "name": "stdout",
     "output_type": "stream",
     "text": [
      "3\n"
     ]
    }
   ],
   "source": [
    "#Count the occurrences of each element in a list.\n",
    "\n",
    "numbers = [10,30,20,50,10,20,10,20]\n",
    "\n",
    "count_occurence = numbers.count(20)\n",
    "print(count_occurence)\n"
   ]
  },
  {
   "cell_type": "code",
   "execution_count": 20,
   "id": "3f5bcffc-7bd1-4ba9-8a63-6f809242759c",
   "metadata": {},
   "outputs": [
    {
     "name": "stdout",
     "output_type": "stream",
     "text": [
      "2\n",
      "4\n",
      "6\n",
      "8\n",
      "10\n"
     ]
    }
   ],
   "source": [
    "#Find the sum of all even numbers in a list.\n",
    "\n",
    "list = [1,2,3,4,5,6,7,8,9,10]\n",
    "\n",
    "for number in list:\n",
    "    if (number % 2 == 0):\n",
    "        print(number)"
   ]
  },
  {
   "cell_type": "code",
   "execution_count": 33,
   "id": "6a429d01-f673-4605-ad19-15108335ba99",
   "metadata": {},
   "outputs": [
    {
     "name": "stdin",
     "output_type": "stream",
     "text": [
      "text: Noore Muskan\n"
     ]
    },
    {
     "name": "stdout",
     "output_type": "stream",
     "text": [
      "count: 5\n"
     ]
    }
   ],
   "source": [
    "#Count the number of vowels in a string.\n",
    "\n",
    "text = input(\"text:\")\n",
    "\n",
    "count=0\n",
    "\n",
    "for character in text:\n",
    "    if(character in \"aAeEiIoOuU\"):\n",
    "        count += 1\n",
    "\n",
    "print(\"count:\",count)\n"
   ]
  },
  {
   "cell_type": "code",
   "execution_count": 30,
   "id": "28257060-4486-437a-a92f-a2972f932661",
   "metadata": {},
   "outputs": [
    {
     "name": "stdin",
     "output_type": "stream",
     "text": [
      "Enter the sentence:  Hi Myself Mussu\n"
     ]
    },
    {
     "name": "stdout",
     "output_type": "stream",
     "text": [
      "['Mussu', 'Myself', 'Hi']\n"
     ]
    }
   ],
   "source": [
    "#Reverse the words in a given sentence.\n",
    "\n",
    "str = input(\"Enter the sentence:\")\n",
    "words = str.split()\n",
    "words = words[-1::-1]\n",
    "print(words)"
   ]
  }
 ],
 "metadata": {
  "kernelspec": {
   "display_name": "Python 3 (ipykernel)",
   "language": "python",
   "name": "python3"
  },
  "language_info": {
   "codemirror_mode": {
    "name": "ipython",
    "version": 3
   },
   "file_extension": ".py",
   "mimetype": "text/x-python",
   "name": "python",
   "nbconvert_exporter": "python",
   "pygments_lexer": "ipython3",
   "version": "3.12.3"
  }
 },
 "nbformat": 4,
 "nbformat_minor": 5
}
