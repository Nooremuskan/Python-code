{
 "cells": [
  {
   "cell_type": "code",
   "execution_count": 2,
   "id": "78a827bf-ecb7-4a79-819b-6687de10fb9e",
   "metadata": {},
   "outputs": [
    {
     "name": "stdin",
     "output_type": "stream",
     "text": [
      "Enter the num: 5\n"
     ]
    },
    {
     "name": "stdout",
     "output_type": "stream",
     "text": [
      "1\n",
      "2\n",
      "6\n",
      "24\n",
      "120\n"
     ]
    }
   ],
   "source": [
    "n=int(input(\"Enter the num:\"))\n",
    "factorial=1\n",
    "for i in range(1,i+1):\n",
    "    factorial=factorial*i\n",
    "    print(factorial)"
   ]
  },
  {
   "cell_type": "code",
   "execution_count": 22,
   "id": "662e989d-9c21-4795-a6d3-a2c2ea7afd5d",
   "metadata": {},
   "outputs": [
    {
     "name": "stdout",
     "output_type": "stream",
     "text": [
      "120\n",
      "6\n",
      "1\n"
     ]
    }
   ],
   "source": [
    "#factorial using recursion\n",
    "\n",
    "def factorial(n):\n",
    "    if n == 0 or n == 1:\n",
    "        return 1\n",
    "    else:\n",
    "        return n * factorial(n-1)\n",
    "print(factorial(5)) \n",
    "print(factorial(3))\n",
    "print(factorial(0))"
   ]
  },
  {
   "cell_type": "code",
   "execution_count": 21,
   "id": "1c743cfe-e594-4010-8a63-73baa102775e",
   "metadata": {},
   "outputs": [
    {
     "name": "stdout",
     "output_type": "stream",
     "text": [
      "Fibonacci series with 5 terms: [0, 1, 1, 2, 3]\n"
     ]
    }
   ],
   "source": [
    "#fibonacci using recursion\n",
    "\n",
    "def fibonacci(n):\n",
    "    if n <= 1:\n",
    "        return n\n",
    "    else:\n",
    "        return fibonacci(n-1) + fibonacci(n-2)\n",
    "num_terms = 5\n",
    "fib_series = [fibonacci(i) for i in range(num_terms)]\n",
    "print(f\"Fibonacci series with {num_terms} terms: {fib_series}\")"
   ]
  },
  {
   "cell_type": "code",
   "execution_count": 30,
   "id": "d1d80c76-ac9f-4264-a80a-81fb38594fd6",
   "metadata": {},
   "outputs": [
    {
     "name": "stdout",
     "output_type": "stream",
     "text": [
      "[1, 2, 3, 4, 5, 6, 7, 8, 9]\n"
     ]
    }
   ],
   "source": [
    "#QUICK SORT\n",
    "\n",
    "def findpi(ar,low,high):\n",
    "    pe=ar[high]\n",
    "    j=low-1\n",
    "    for i in range(low,high):\n",
    "        if pe>ar[i]:\n",
    "            j+=1\n",
    "            ar[i],ar[j]=ar[j],ar[i]\n",
    "    ar[high],ar[j+1]=ar[j+1],ar[high]\n",
    "    return j+1\n",
    "\n",
    "def quicksort(ar,low,high):\n",
    "    if low<high:\n",
    "        pi = findpi(ar,low,high)\n",
    "        quicksort(ar,low,pi-1)\n",
    "        quicksort(ar,pi+1,high) \n",
    "\n",
    "#main\n",
    "ar = [3,5,7,2,4,8,1,9,6]\n",
    "quicksort(ar,0,len(ar)-1)\n",
    "print(ar)"
   ]
  },
  {
   "cell_type": "code",
   "execution_count": 2,
   "id": "72da31b4-ac0d-42f6-b4f5-7b2406068400",
   "metadata": {},
   "outputs": [
    {
     "name": "stdout",
     "output_type": "stream",
     "text": [
      "A= <__main__.node object at 0x00000214C954FB90>\n",
      "B= <__main__.node object at 0x00000214C954F110>\n",
      "C= <__main__.node object at 0x00000214C956BA10>\n",
      "D= <__main__.node object at 0x00000214C956B260>\n",
      "<__main__.node object at 0x00000214C954FB90> -->\n",
      "<__main__.node object at 0x00000214C954F110> -->\n",
      "<__main__.node object at 0x00000214C956BA10> -->\n",
      "<__main__.node object at 0x00000214C956B260> -->\n"
     ]
    }
   ],
   "source": [
    "#LINKED LIST\n",
    "class node:\n",
    "    def __init__(self,value):\n",
    "        self.data=value\n",
    "        self.next=None\n",
    "\n",
    "A=node(\"apple\")\n",
    "B=node(\"Book\")\n",
    "C=node(\"Cat\")\n",
    "D=node(\"Dog\")\n",
    "\n",
    "head=A\n",
    "head.next=B\n",
    "head.next.next=C\n",
    "head.next.next.next=D\n",
    "\n",
    "print(\"A=\",A)\n",
    "print(\"B=\",B)\n",
    "print(\"C=\",C)\n",
    "print(\"D=\",D)\n",
    "\n",
    "print(head,\"-->\")\n",
    "print(head.next,\"-->\")\n",
    "print(head.next.next,\"-->\")\n",
    "print(head.next.next.next,\"-->\")      "
   ]
  },
  {
   "cell_type": "code",
   "execution_count": 2,
   "id": "da056b54-ff7c-471c-afef-e0a0874d3fef",
   "metadata": {},
   "outputs": [
    {
     "name": "stdout",
     "output_type": "stream",
     "text": [
      "Node 1 <__main__.node object at 0x0000017D24B7BEF0> 1\n",
      "Node 2 <__main__.node object at 0x0000017D24B95940> 2\n",
      "Node 3 <__main__.node object at 0x0000017D24B961E0> 3\n",
      "Node 4 <__main__.node object at 0x0000017D24B95880> 4\n"
     ]
    }
   ],
   "source": [
    "\n",
    "class node:\n",
    "    def __init__(self,value):\n",
    "        self.data=value\n",
    "        self.next=None\n",
    "head=node(1)\n",
    "head.next=node(2)\n",
    "head.next.next=node(3)\n",
    "head.next.next.next=node(4)\n",
    "\n",
    "print(\"Node 1\",head,head.data)\n",
    "print(\"Node 2\",head.next,head.next.data)\n",
    "print(\"Node 3\",head.next.next,head.next.next.data)\n",
    "print(\"Node 4\",head.next.next.next,head.next.next.next.data)"
   ]
  },
  {
   "cell_type": "code",
   "execution_count": null,
   "id": "95717a52-ce89-4072-aec0-3fa70c3242d9",
   "metadata": {},
   "outputs": [],
   "source": [
    " "
   ]
  }
 ],
 "metadata": {
  "kernelspec": {
   "display_name": "Python 3 (ipykernel)",
   "language": "python",
   "name": "python3"
  },
  "language_info": {
   "codemirror_mode": {
    "name": "ipython",
    "version": 3
   },
   "file_extension": ".py",
   "mimetype": "text/x-python",
   "name": "python",
   "nbconvert_exporter": "python",
   "pygments_lexer": "ipython3",
   "version": "3.12.3"
  }
 },
 "nbformat": 4,
 "nbformat_minor": 5
}
