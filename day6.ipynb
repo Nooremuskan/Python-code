{
 "cells": [
  {
   "cell_type": "code",
   "execution_count": 12,
   "id": "31033db6-ed26-41e4-a212-d5b4d0449145",
   "metadata": {},
   "outputs": [
    {
     "name": "stdout",
     "output_type": "stream",
     "text": [
      "configuration of vehicle is:\n",
      "enginge piston\n",
      "regplate 9945\n",
      "price 20000\n",
      "colour purpel\n",
      "configuration of car is:\n",
      "type BMW\n",
      "nooffpassenger 4\n",
      "maxspeed 250kmph\n",
      "configuration of truck is:\n",
      "noofaxle 10\n",
      "loadcapacity 10000\n"
     ]
    }
   ],
   "source": [
    "class vehicle:\n",
    "    def __init__(self,ec,rp,p,c):\n",
    "        self.engine=ec\n",
    "        self.regplate=rp\n",
    "        self.price=p\n",
    "        self.colour=c\n",
    "\n",
    "    def config(self):\n",
    "        print(\"configuration of vehicle is:\")\n",
    "        print(\"enginge\",self.engine)\n",
    "        print(\"regplate\",self.regplate)\n",
    "        print(\"price\",self.price)\n",
    "        print(\"colour\",self.colour)\n",
    "        \n",
    "    \n",
    "\n",
    "if __name__==\"__main__\":\n",
    "    a = vehicle(\"piston\",9945,20000,\"purpel\")\n",
    "    a.config()\n",
    "\n",
    "class car:\n",
    "    def __init__(self,t,n,m):\n",
    "        self.type=t\n",
    "        self.noofpassenger=n\n",
    "        self.maxspeed=m\n",
    "\n",
    "    def config(self):\n",
    "        print(\"configuration of car is:\")\n",
    "        print(\"type\",self.type)\n",
    "        print(\"nooffpassenger\",self.noofpassenger)\n",
    "        print(\"maxspeed\",self.maxspeed)\n",
    "\n",
    "if __name__==\"__main__\":\n",
    "    a=car(\"BMW\",4,\"250kmph\")\n",
    "    a.config()\n",
    "    \n",
    "class truck:\n",
    "    def __init__(self,n,l):\n",
    "        self.noofaxle=n\n",
    "        self.loadcapacity=l\n",
    "\n",
    "    def config(self):\n",
    "        print(\"configuration of truck is:\")\n",
    "        print(\"noofaxle\",self.noofaxle)\n",
    "        print(\"loadcapacity\",self.loadcapacity)\n",
    "\n",
    "if __name__==\"__main__\":\n",
    "    a=truck(10,10000)\n",
    "    a.config()\n",
    "    "
   ]
  },
  {
   "cell_type": "code",
   "execution_count": 29,
   "id": "9bd04503-0f76-4c18-b5c6-d4f915ed5480",
   "metadata": {},
   "outputs": [
    {
     "name": "stdout",
     "output_type": "stream",
     "text": [
      "the details of employee are:\n",
      "epid 412\n",
      "epname muskan\n",
      "epsalary 30000\n",
      "the details of staff is:\n",
      "worktype lectural\n",
      "workarea BITM\n",
      "the data of developer is\n",
      "module database\n",
      "tech sql\n",
      "experience 1\n",
      "the manager details is:\n",
      "project library management system\n",
      "clientname salma\n"
     ]
    }
   ],
   "source": [
    "class employee:\n",
    "    def __init__(self,ei,en,es):\n",
    "        self.epid=ei\n",
    "        self.epname=en\n",
    "        self.epsalary=es\n",
    "\n",
    "    def config(self):\n",
    "        print(\"the details of employee are:\")\n",
    "        print(\"epid\",self.epid)\n",
    "        print(\"epname\",self.epname)\n",
    "        print(\"epsalary\",self.epsalary)\n",
    "\n",
    "if __name__==\"__main__\":\n",
    "    a=employee(412,\"muskan\",30000)\n",
    "    a.config()\n",
    "\n",
    "class staff:\n",
    "    def __init__(self,wt,wa):\n",
    "        self.worktype=wt\n",
    "        self.workarea=wa\n",
    "\n",
    "    def config(self):\n",
    "        print(\"the details of staff is:\")\n",
    "        print(\"worktype\",self.worktype)\n",
    "        print(\"workarea\",self.workarea)\n",
    "\n",
    "if __name__==\"__main__\":\n",
    "    a=staff(\"lectural\",\"BITM\")\n",
    "    a.config()\n",
    "\n",
    "class developer:\n",
    "    def __init__(self,m,t,e):\n",
    "        self.module=m\n",
    "        self.tech=t\n",
    "        self.experience=e\n",
    "\n",
    "    def config(self):\n",
    "        print(\"the data of developer is\")\n",
    "        print(\"module\",self.module)\n",
    "        print(\"tech\",self.tech)\n",
    "        print(\"experience\",self.experience)\n",
    "\n",
    "if __name__==\"__main__\":\n",
    "    a=developer(\"database\",\"sql\",1)\n",
    "    a.config()\n",
    "\n",
    "class manager:\n",
    "    def __init__(self,p,c):\n",
    "        self.project=p\n",
    "        self.clientname=c\n",
    "\n",
    "    def config(self):\n",
    "        print(\"the manager details is:\")\n",
    "        print(\"project\",self.project)\n",
    "        print(\"clientname\",self.clientname)\n",
    "\n",
    "\n",
    "if __name__==\"__main__\":\n",
    "    a=manager(\"library management system\",\"salma\")\n",
    "    a.config()\n",
    "        \n",
    "    "
   ]
  },
  {
   "cell_type": "code",
   "execution_count": 51,
   "id": "4dc7fa8d-1e0c-446a-8aeb-d7d118676036",
   "metadata": {},
   "outputs": [
    {
     "name": "stdout",
     "output_type": "stream",
     "text": [
      "*\n",
      "**\n",
      "***\n",
      "****\n",
      "*****\n"
     ]
    }
   ],
   "source": [
    "def half_pyramid(n):\n",
    "    for i in range(0, n):\n",
    "        for j in range(0, i+1):\n",
    "            print(\"*\",end=\"\")\n",
    "        print()\n",
    "\n",
    "n=5\n",
    "half_pyramid(n)"
   ]
  },
  {
   "cell_type": "code",
   "execution_count": 93,
   "id": "330fec68-9a51-48da-ae69-9b54acda5830",
   "metadata": {},
   "outputs": [
    {
     "name": "stdout",
     "output_type": "stream",
     "text": [
      "******\n",
      "******\n",
      "******\n",
      "******\n",
      "******\n",
      "******\n"
     ]
    }
   ],
   "source": [
    "def half_pyramid(n):\n",
    "    for i in range(0,6):\n",
    "        for j in range(0,6):\n",
    "            print(\"*\",end=\"\")\n",
    "        print()\n",
    "\n",
    "n=5\n",
    "half_pyramid(n)\n"
   ]
  },
  {
   "cell_type": "code",
   "execution_count": 108,
   "id": "609df8b2-f897-48fa-8b3b-02103525eade",
   "metadata": {},
   "outputs": [
    {
     "name": "stdout",
     "output_type": "stream",
     "text": [
      "12345\n",
      "1234\n",
      "123\n",
      "12\n"
     ]
    }
   ],
   "source": [
    "rows=5\n",
    "\n",
    "\n",
    "for i in range(rows, 1, -1):\n",
    "\n",
    "    for j in range(1,i+1):\n",
    "        print(j,end='')\n",
    "    print(\"\\r\")\n",
    "\n",
    "\n"
   ]
  },
  {
   "cell_type": "code",
   "execution_count": 127,
   "id": "0557ddd5-12db-414c-a8d9-ded448e95441",
   "metadata": {},
   "outputs": [],
   "source": [
    "for i in range(rows,i+1):\n",
    "\n",
    "    for j in range(1,-1):\n",
    "        print(j,end='')\n",
    "    print(\"\\r\")\n"
   ]
  },
  {
   "cell_type": "code",
   "execution_count": 126,
   "id": "02d86c71-4217-4a5d-9005-32dcf0f5b2ac",
   "metadata": {},
   "outputs": [
    {
     "name": "stdout",
     "output_type": "stream",
     "text": [
      "        * \n",
      "      * * \n",
      "    * * * \n",
      "  * * * * \n",
      "* * * * * \n"
     ]
    }
   ],
   "source": [
    "\n",
    "rows = 5\n",
    "k = 2 * rows - 2\n",
    "for i in range(0, rows):\n",
    "    for j in range(0, k):\n",
    "        print(end=\" \")\n",
    "    k = k - 2\n",
    "    for j in range(0, i + 1):\n",
    "        print(\"* \", end=\"\")\n",
    "    print(\"\")\n",
    "        "
   ]
  },
  {
   "cell_type": "code",
   "execution_count": 129,
   "id": "c712791d-5d51-4933-af2f-29566a350def",
   "metadata": {},
   "outputs": [
    {
     "name": "stdout",
     "output_type": "stream",
     "text": [
      "* * * * * \n",
      "* * * * \n",
      "* * * \n",
      "* * \n",
      "* \n",
      "\n"
     ]
    }
   ],
   "source": [
    "rows = 5\n",
    "for i in range(rows + 1, 0, -1):\n",
    "    for j in range(0, i - 1):\n",
    "        print(\"*\", end=' ')\n",
    "    print(\"\")\n",
    "        "
   ]
  },
  {
   "cell_type": "code",
   "execution_count": 132,
   "id": "32690873-2170-4489-8040-befe428877ed",
   "metadata": {},
   "outputs": [
    {
     "name": "stdout",
     "output_type": "stream",
     "text": [
      "        * \n",
      "       * * \n",
      "      * * * \n",
      "     * * * * \n",
      "    * * * * * \n",
      "   * * * * * * \n",
      "    * * * * * \n",
      "     * * * * \n",
      "      * * * \n",
      "       * * \n",
      "        * \n"
     ]
    }
   ],
   "source": [
    "rows = 5\n",
    "k = 2 * rows - 2\n",
    "for i in range(0, rows):\n",
    "    for j in range(0, k):\n",
    "        print(end=\" \")\n",
    "    k = k - 1\n",
    "    for j in range(0, i + 1):\n",
    "        print(\"* \", end=\"\")\n",
    "    print(\"\")\n",
    "    \n",
    "k = rows - 2\n",
    "\n",
    "for i in range(rows, -1, -1):\n",
    "    for j in range(k, 0, -1):\n",
    "        print(end=\" \")\n",
    "    k = k + 1\n",
    "    for j in range(0, i + 1):\n",
    "        print(\"* \", end=\"\")\n",
    "    print(\"\")\n",
    "        "
   ]
  },
  {
   "cell_type": "code",
   "execution_count": 144,
   "id": "f5465d61-87d9-4499-bc63-8dfa92ec7699",
   "metadata": {},
   "outputs": [
    {
     "name": "stdout",
     "output_type": "stream",
     "text": [
      "* \n",
      "* * \n",
      "* * * \n",
      "* * * * \n",
      "* * * \n",
      "* * \n",
      "* \n",
      "\n"
     ]
    }
   ],
   "source": [
    "rows = 4\n",
    "for i in range(0, rows):\n",
    "    for j in range(0, i + 1):\n",
    "        print(\"*\", end=' ')\n",
    "    print(\"\\r\")\n",
    "\n",
    "for i in range(rows, 0, -1):\n",
    "    for j in range(0, i - 1):\n",
    "        print(\"*\", end=' ')\n",
    "    print(\"\\r\")"
   ]
  },
  {
   "cell_type": "code",
   "execution_count": 156,
   "id": "c36135b3-46f0-4b6a-89cd-0add721acf51",
   "metadata": {},
   "outputs": [
    {
     "name": "stdout",
     "output_type": "stream",
     "text": [
      "******\n",
      "*    *\n",
      "*    *\n",
      "*    *\n",
      "*    *\n",
      "******\n"
     ]
    }
   ],
   "source": [
    "\n",
    "n = 6\n",
    "for i in range(n):\n",
    "    for j in range(n):\n",
    "        if i == 0 or i == n - 1 or j == 0 or j == n - 1:\n",
    "            print('*', end='')\n",
    "        else:\n",
    "            print(' ', end='')\n",
    "    print(\"\")            "
   ]
  },
  {
   "cell_type": "code",
   "execution_count": 153,
   "id": "1daae3cb-dbcd-48c5-ad5c-1dd2f4e134f8",
   "metadata": {},
   "outputs": [
    {
     "name": "stdout",
     "output_type": "stream",
     "text": [
      "    *\n",
      "   ***\n",
      "  *****\n",
      " *******\n",
      "*********\n"
     ]
    }
   ],
   "source": [
    "n = 5\n",
    "for i in range(1, n+1):\n",
    "    for j in range(n - i):\n",
    "        print(' ', end='')\n",
    "    for k in range(2 * i - 1):\n",
    "        print('*', end='')\n",
    "    print()"
   ]
  },
  {
   "cell_type": "code",
   "execution_count": null,
   "id": "db83b716-a9b8-4781-b81c-69b21e3c1666",
   "metadata": {},
   "outputs": [],
   "source": []
  }
 ],
 "metadata": {
  "kernelspec": {
   "display_name": "Python 3 (ipykernel)",
   "language": "python",
   "name": "python3"
  },
  "language_info": {
   "codemirror_mode": {
    "name": "ipython",
    "version": 3
   },
   "file_extension": ".py",
   "mimetype": "text/x-python",
   "name": "python",
   "nbconvert_exporter": "python",
   "pygments_lexer": "ipython3",
   "version": "3.12.3"
  }
 },
 "nbformat": 4,
 "nbformat_minor": 5
}
