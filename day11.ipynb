{
 "cells": [
  {
   "cell_type": "code",
   "execution_count": 16,
   "id": "43004411-531c-4b84-96ef-2e071b049517",
   "metadata": {},
   "outputs": [
    {
     "name": "stdin",
     "output_type": "stream",
     "text": [
      " 11\n"
     ]
    }
   ],
   "source": [
    "x=int(input())\n",
    "temp=node(x)\n",
    "curr=Head\n",
    "\n",
    "if curr==None:\n",
    "    Head=temp\n",
    "else:\n",
    "    while curr.next!=None:\n",
    "        curr=curr.next\n",
    "    curr.next=temp"
   ]
  },
  {
   "cell_type": "code",
   "execution_count": 26,
   "id": "2d6d4e41-dbce-49ec-80ac-8eaf743f9fe7",
   "metadata": {},
   "outputs": [
    {
     "name": "stdout",
     "output_type": "stream",
     "text": [
      "1 --> 2 --> 3 --> 4 --> 5 -->\n"
     ]
    }
   ],
   "source": [
    "class node:\n",
    "    def __init__(self,value):\n",
    "        self.data=value\n",
    "        self.next=None\n",
    "\n",
    "Head=node(1)\n",
    "Head.next=node(2)\n",
    "Head.next.next=node(3)\n",
    "Head.next.next.next=node(4)\n",
    "Head.next.next.next.next=node(5)\n",
    "\n",
    "print(Head.data,\"-->\",\n",
    "Head.next.data,\"-->\",\n",
    "Head.next.next.data,\"-->\",\n",
    "Head.next.next.next.data,\"-->\", \n",
    "Head.next.next.next.next.data,\"-->\",)\n"
   ]
  },
  {
   "cell_type": "code",
   "execution_count": 27,
   "id": "523df968-474b-4852-b83a-1d2e1a32cb0d",
   "metadata": {},
   "outputs": [
    {
     "name": "stdin",
     "output_type": "stream",
     "text": [
      " 11\n"
     ]
    }
   ],
   "source": [
    "x=int(input())\n",
    "temp=node(x)\n",
    "curr=Head\n",
    "\n",
    "if curr==None:\n",
    "    Head=temp\n",
    "else:\n",
    "    while curr.next!=None:\n",
    "        curr=curr.next\n",
    "    curr.next=temp"
   ]
  },
  {
   "cell_type": "code",
   "execution_count": 28,
   "id": "2e2bbdec-b4c9-4467-bd78-89310ed9a745",
   "metadata": {},
   "outputs": [
    {
     "name": "stdout",
     "output_type": "stream",
     "text": [
      "1 --> 2 --> 3 --> 4 --> 5 --> 11 --> "
     ]
    }
   ],
   "source": [
    "curr=Head\n",
    "\n",
    "while curr!=None:\n",
    "    print(curr.data,\"-->\",end=\" \")\n",
    "    curr=curr.next"
   ]
  },
  {
   "cell_type": "code",
   "execution_count": 29,
   "id": "fa4e1164-3510-489a-b1c6-a02950d6e927",
   "metadata": {},
   "outputs": [
    {
     "name": "stdin",
     "output_type": "stream",
     "text": [
      "Enter the location value: 4\n",
      "Enter the value: 12\n"
     ]
    }
   ],
   "source": [
    "L = int(input(\"Enter the location value:\"))\n",
    "x = int(input(\"Enter the value:\"))\n",
    "curr = Head\n",
    "while curr != None:\n",
    "    if(curr.data == L):\n",
    "        break;\n",
    "    curr=curr.next\n",
    "temp=node(x)\n",
    "temp.next=curr.next\n",
    "curr.next=temp\n"
   ]
  },
  {
   "cell_type": "code",
   "execution_count": 52,
   "id": "b98bb163-dfab-4af0-a2dc-6fce4901b601",
   "metadata": {},
   "outputs": [
    {
     "name": "stdout",
     "output_type": "stream",
     "text": [
      "1 --> 2 --> 3 --> 4 --> 12 --> 5 --> 11 --> "
     ]
    }
   ],
   "source": [
    "curr=Head\n",
    "\n",
    "while curr!=None:\n",
    "    print(curr.data,\"-->\",end=\" \")\n",
    "    curr=curr.next\n",
    "    "
   ]
  },
  {
   "cell_type": "code",
   "execution_count": 56,
   "id": "8f6a48be-9e0d-4b70-8c4a-1bcc36729fc9",
   "metadata": {},
   "outputs": [
    {
     "ename": "SyntaxError",
     "evalue": "invalid syntax (2777807715.py, line 6)",
     "output_type": "error",
     "traceback": [
      "\u001b[1;36m  Cell \u001b[1;32mIn[56], line 6\u001b[1;36m\u001b[0m\n\u001b[1;33m    if first\"-->\"next==None:\u001b[0m\n\u001b[1;37m            ^\u001b[0m\n\u001b[1;31mSyntaxError\u001b[0m\u001b[1;31m:\u001b[0m invalid syntax\n"
     ]
    }
   ],
   "source": [
    "L = int(input(\"Enter the location value:\"))\n",
    "x = int(inp9ut(\"Enter the value:\"))\n",
    "node=temp,prev\n",
    "if first==None:\n",
    "    print(\"List is empty\")\n",
    "    if first\"-->\"next==None:\n",
    "        temp=first\n",
    "        first=None\n",
    "        free(temp)\n",
    "    else:\n",
    "        temp=first\n",
    "    while temp\"-->\"next!=None:\n",
    "        prev=temp\n",
    "        temp=temp\"-->\"next\n",
    "\n",
    "prev\"-->\"next=None\n",
    "free(temp)"
   ]
  },
  {
   "cell_type": "code",
   "execution_count": 15,
   "id": "d24b8859-ee71-4ca5-b319-8c125de5c220",
   "metadata": {},
   "outputs": [
    {
     "name": "stdout",
     "output_type": "stream",
     "text": [
      "1\n",
      "2\n",
      "4\n",
      "5\n",
      "3\n",
      "6\n",
      "7\n"
     ]
    }
   ],
   "source": [
    "#TREE'S\n",
    "#Preorder\n",
    "\n",
    "class node:\n",
    "    def __init__(self,value):\n",
    "        self.data=value\n",
    "        self.left=None\n",
    "        self.right=None\n",
    "        \n",
    "def preorder(root):\n",
    "    if root == None:\n",
    "        return\n",
    "        \n",
    "    print(root.data)\n",
    "    preorder(root.left)\n",
    "    preorder(root.right)\n",
    "        \n",
    "root = node(1)\n",
    "root.left= node(2)\n",
    "root.right = node(3)\n",
    "\n",
    "root.left.left = node(4)\n",
    "root.left.right = node(5)\n",
    "\n",
    "root.right.left = node(6)\n",
    "root.right.right = node(7)\n",
    "\n",
    "preorder(root)"
   ]
  },
  {
   "cell_type": "code",
   "execution_count": 16,
   "id": "adf51ed6-1647-41c4-a49e-a2a292ab7d0f",
   "metadata": {},
   "outputs": [
    {
     "name": "stdout",
     "output_type": "stream",
     "text": [
      "4\n",
      "5\n",
      "2\n",
      "6\n",
      "7\n",
      "3\n",
      "1\n"
     ]
    }
   ],
   "source": [
    "#Postorder\n",
    "\n",
    "class node:\n",
    "    def __init__(self,value):\n",
    "        self.data=value\n",
    "        self.left=None\n",
    "        self.right=None\n",
    "\n",
    "def postorder(root):\n",
    "    if root == None:\n",
    "        return\n",
    "        \n",
    "    postorder(root.left)\n",
    "    postorder(root.right)\n",
    "    print(root.data)\n",
    "        \n",
    "root = node(1)\n",
    "root.left= node(2)\n",
    "root.right = node(3)\n",
    "\n",
    "root.left.left = node(4)\n",
    "root.left.right = node(5)\n",
    "\n",
    "root.right.left = node(6)\n",
    "root.right.right = node(7)\n",
    "\n",
    "postorder(root)\n"
   ]
  },
  {
   "cell_type": "code",
   "execution_count": 17,
   "id": "84fd338f-62e9-4568-96de-a25afa2ab4cc",
   "metadata": {},
   "outputs": [
    {
     "name": "stdout",
     "output_type": "stream",
     "text": [
      "4\n",
      "2\n",
      "5\n",
      "1\n",
      "6\n",
      "3\n",
      "7\n"
     ]
    }
   ],
   "source": [
    "#Inorder\n",
    "\n",
    "class node:\n",
    "    def __init__(self,value):\n",
    "        self.data=value\n",
    "        self.left=None\n",
    "        self.right=None\n",
    "        \n",
    "def inorder(root):\n",
    "    if root == None:\n",
    "        return\n",
    "        \n",
    "    inorder(root.left)\n",
    "    print(root.data)\n",
    "    inorder(root.right)\n",
    "    \n",
    "root = node(1)\n",
    "root.left= node(2)\n",
    "root.right = node(3)\n",
    "\n",
    "root.left.left = node(4)\n",
    "root.left.right = node(5)\n",
    "\n",
    "root.right.left = node(6)\n",
    "root.right.right = node(7)\n",
    "\n",
    "inorder(root)"
   ]
  },
  {
   "cell_type": "code",
   "execution_count": 22,
   "id": "d30a96a0-cfdf-4693-929d-943da638048c",
   "metadata": {},
   "outputs": [
    {
     "name": "stdout",
     "output_type": "stream",
     "text": [
      "Level Order Traversal\n",
      "1 \n",
      "2 3 \n",
      "4 5 6 7 \n"
     ]
    }
   ],
   "source": [
    "#LevelOrder\n",
    "def levelorder(root):\n",
    "    Q=[root,None]\n",
    "    while Q:\n",
    "        curr = Q.pop(0)\n",
    "        if curr == None:\n",
    "            print()\n",
    "            if Q:\n",
    "                Q.append(curr)\n",
    "        else:\n",
    "            print(curr.data,end=\" \")\n",
    "            if curr.left != None:\n",
    "                Q.append(curr.left)\n",
    "            if curr.right != None:\n",
    "                Q.append(curr.right)\n",
    "\n",
    "\n",
    "print(\"Level Order Traversal\")\n",
    "levelorder(root)\n"
   ]
  },
  {
   "cell_type": "code",
   "execution_count": null,
   "id": "82a0e23d-2464-43e7-a8a6-0ebb17f97316",
   "metadata": {},
   "outputs": [],
   "source": []
  },
  {
   "cell_type": "code",
   "execution_count": null,
   "id": "83712804-2949-4d9a-9e2f-5366a16a6355",
   "metadata": {},
   "outputs": [],
   "source": []
  }
 ],
 "metadata": {
  "kernelspec": {
   "display_name": "Python 3 (ipykernel)",
   "language": "python",
   "name": "python3"
  },
  "language_info": {
   "codemirror_mode": {
    "name": "ipython",
    "version": 3
   },
   "file_extension": ".py",
   "mimetype": "text/x-python",
   "name": "python",
   "nbconvert_exporter": "python",
   "pygments_lexer": "ipython3",
   "version": "3.12.3"
  }
 },
 "nbformat": 4,
 "nbformat_minor": 5
}
